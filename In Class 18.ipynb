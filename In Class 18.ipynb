{
 "cells": [
  {
   "cell_type": "code",
   "execution_count": 1,
   "id": "aadc4619-11ea-4f19-a533-9b44a56bc4a2",
   "metadata": {
    "tags": []
   },
   "outputs": [
    {
     "name": "stdout",
     "output_type": "stream",
     "text": [
      "Looking in indexes: https://pypi.org/simple, https://pip.repos.neuron.amazonaws.com\n",
      "Collecting xgboost\n",
      "  Downloading xgboost-1.7.4-py3-none-manylinux2014_x86_64.whl (193.6 MB)\n",
      "\u001b[2K     \u001b[90m━━━━━━━━━━━━━━━━━━━━━━━━━━━━━━━━━━━━━━━\u001b[0m \u001b[32m193.6/193.6 MB\u001b[0m \u001b[31m2.6 MB/s\u001b[0m eta \u001b[36m0:00:00\u001b[0m00:01\u001b[0m00:01\u001b[0m\n",
      "\u001b[?25hRequirement already satisfied: numpy in /home/ec2-user/anaconda3/envs/python3/lib/python3.10/site-packages (from xgboost) (1.22.3)\n",
      "Requirement already satisfied: scipy in /home/ec2-user/anaconda3/envs/python3/lib/python3.10/site-packages (from xgboost) (1.10.0)\n",
      "Installing collected packages: xgboost\n",
      "Successfully installed xgboost-1.7.4\n",
      "Note: you may need to restart the kernel to use updated packages.\n"
     ]
    }
   ],
   "source": [
    "pip install xgboost"
   ]
  },
  {
   "cell_type": "code",
   "execution_count": 18,
   "id": "4cc66838-56a8-48c1-a768-959c5f2aff55",
   "metadata": {
    "tags": []
   },
   "outputs": [],
   "source": [
    "import boto3\n",
    "import pandas as pd\n",
    "import numpy as np\n",
    "import matplotlib.pyplot as plt\n",
    "\n",
    "from xgboost import XGBClassifier\n",
    "from scipy.stats import boxcox\n",
    "from sklearn.svm import SVC\n",
    "from sklearn.tree import DecisionTreeClassifier, plot_tree\n",
    "from sklearn.metrics import classification_report, confusion_matrix, make_scorer\n",
    "from sklearn.ensemble import RandomForestClassifier, AdaBoostClassifier, GradientBoostingClassifier\n",
    "from sklearn.linear_model import LogisticRegression\n",
    "from sklearn.preprocessing import MinMaxScaler\n",
    "from sklearn.model_selection import train_test_split, GridSearchCV, RandomizedSearchCV, StratifiedKFold\n",
    "from sklearn.feature_selection import RFE, RFECV\n",
    "\n",
    "from cost_function import cost_function, cost_function_cutoff\n",
    "from precision_recall_cutoff import precision_recall_cutoff"
   ]
  },
  {
   "cell_type": "code",
   "execution_count": 9,
   "id": "9afb4f30-948c-45a9-81c9-ccf47a41dec9",
   "metadata": {},
   "outputs": [
    {
     "data": {
      "text/html": [
       "<div>\n",
       "<style scoped>\n",
       "    .dataframe tbody tr th:only-of-type {\n",
       "        vertical-align: middle;\n",
       "    }\n",
       "\n",
       "    .dataframe tbody tr th {\n",
       "        vertical-align: top;\n",
       "    }\n",
       "\n",
       "    .dataframe thead th {\n",
       "        text-align: right;\n",
       "    }\n",
       "</style>\n",
       "<table border=\"1\" class=\"dataframe\">\n",
       "  <thead>\n",
       "    <tr style=\"text-align: right;\">\n",
       "      <th></th>\n",
       "      <th>satisfaction_level</th>\n",
       "      <th>last_evaluation</th>\n",
       "      <th>number_project</th>\n",
       "      <th>average_montly_hours</th>\n",
       "      <th>time_spend_company</th>\n",
       "      <th>Work_accident</th>\n",
       "      <th>left</th>\n",
       "      <th>promotion_last_5years</th>\n",
       "      <th>sales</th>\n",
       "      <th>salary</th>\n",
       "    </tr>\n",
       "  </thead>\n",
       "  <tbody>\n",
       "    <tr>\n",
       "      <th>0</th>\n",
       "      <td>0.38</td>\n",
       "      <td>0.53</td>\n",
       "      <td>2</td>\n",
       "      <td>157</td>\n",
       "      <td>3</td>\n",
       "      <td>0</td>\n",
       "      <td>1</td>\n",
       "      <td>0</td>\n",
       "      <td>sales</td>\n",
       "      <td>low</td>\n",
       "    </tr>\n",
       "    <tr>\n",
       "      <th>1</th>\n",
       "      <td>0.80</td>\n",
       "      <td>0.86</td>\n",
       "      <td>5</td>\n",
       "      <td>262</td>\n",
       "      <td>6</td>\n",
       "      <td>0</td>\n",
       "      <td>1</td>\n",
       "      <td>0</td>\n",
       "      <td>sales</td>\n",
       "      <td>medium</td>\n",
       "    </tr>\n",
       "    <tr>\n",
       "      <th>2</th>\n",
       "      <td>0.11</td>\n",
       "      <td>0.88</td>\n",
       "      <td>7</td>\n",
       "      <td>272</td>\n",
       "      <td>4</td>\n",
       "      <td>0</td>\n",
       "      <td>1</td>\n",
       "      <td>0</td>\n",
       "      <td>sales</td>\n",
       "      <td>medium</td>\n",
       "    </tr>\n",
       "    <tr>\n",
       "      <th>3</th>\n",
       "      <td>0.72</td>\n",
       "      <td>0.87</td>\n",
       "      <td>5</td>\n",
       "      <td>223</td>\n",
       "      <td>5</td>\n",
       "      <td>0</td>\n",
       "      <td>1</td>\n",
       "      <td>0</td>\n",
       "      <td>sales</td>\n",
       "      <td>low</td>\n",
       "    </tr>\n",
       "    <tr>\n",
       "      <th>4</th>\n",
       "      <td>0.37</td>\n",
       "      <td>0.52</td>\n",
       "      <td>2</td>\n",
       "      <td>159</td>\n",
       "      <td>3</td>\n",
       "      <td>0</td>\n",
       "      <td>1</td>\n",
       "      <td>0</td>\n",
       "      <td>sales</td>\n",
       "      <td>low</td>\n",
       "    </tr>\n",
       "  </tbody>\n",
       "</table>\n",
       "</div>"
      ],
      "text/plain": [
       "   satisfaction_level  last_evaluation  number_project  average_montly_hours  \\\n",
       "0                0.38             0.53               2                   157   \n",
       "1                0.80             0.86               5                   262   \n",
       "2                0.11             0.88               7                   272   \n",
       "3                0.72             0.87               5                   223   \n",
       "4                0.37             0.52               2                   159   \n",
       "\n",
       "   time_spend_company  Work_accident  left  promotion_last_5years  sales  \\\n",
       "0                   3              0     1                      0  sales   \n",
       "1                   6              0     1                      0  sales   \n",
       "2                   4              0     1                      0  sales   \n",
       "3                   5              0     1                      0  sales   \n",
       "4                   3              0     1                      0  sales   \n",
       "\n",
       "   salary  \n",
       "0     low  \n",
       "1  medium  \n",
       "2  medium  \n",
       "3     low  \n",
       "4     low  "
      ]
     },
     "execution_count": 9,
     "metadata": {},
     "output_type": "execute_result"
    }
   ],
   "source": [
    "## Defining the s3 bucket\n",
    "s3 = boto3.resource('s3')\n",
    "bucket_name = 'ryan-greiner-bucket'\n",
    "bucket = s3.Bucket(bucket_name)\n",
    "\n",
    "## Defining the file to be read from s3 bucket\n",
    "file_key = 'predictive_analytics/turnover.csv'\n",
    "bucket_object = bucket.Object(file_key)\n",
    "file_object = bucket_object.get()\n",
    "file_content_stream = file_object.get('Body')\n",
    "\n",
    "## Reading CSV file\n",
    "turnover = pd.read_csv(file_content_stream)\n",
    "turnover.head()"
   ]
  },
  {
   "cell_type": "code",
   "execution_count": 10,
   "id": "ebb3a8b8-5fd9-427f-957f-058867ccab7d",
   "metadata": {},
   "outputs": [],
   "source": [
    "## Create Dummies ##\n",
    "turnover = pd.concat([turnover.drop(columns = ['sales', 'salary'], axis = 1), pd.get_dummies(turnover[['sales', 'salary']])], axis = 1)\n",
    "\n",
    "## Feature Engineering ##\n",
    "turnover['interaction_1'] = np.where((turnover['satisfaction_level'] >= .115) &\n",
    "                                     (turnover['satisfaction_level'] <= .465) &\n",
    "                                     (turnover['number_project'] > 2.5), 1, 0)\n",
    "\n",
    "turnover['interaction_2'] = np.where((turnover['satisfaction_level'] >= .465) &\n",
    "                                     (turnover['number_project'] <= 2.5) &\n",
    "                                     (turnover['last_evaluation'] <= .575), 1, 0)\n",
    "\n",
    "turnover['interaction_3'] = np.where((turnover['satisfaction_level'] >= .465) &\n",
    "                                     (turnover['time_spend_company'] <= 4.5) &\n",
    "                                     (turnover['number_project'] <= 290.5), 1, 0)\n",
    "\n",
    "\n",
    "## Inputs and target ##\n",
    "scaler = MinMaxScaler()\n",
    "X = turnover[['interaction_3', 'interaction_1', 'satisfaction_level', 'time_spend_company', 'number_project']]\n",
    "# X = pd.DataFrame(scaler.fit_transform(X), columns = X.columns)\n",
    "Y = turnover['left']\n",
    "\n",
    "## split data ##\n",
    "X_train, X_test, Y_train, Y_test = train_test_split(X, Y, test_size = .2, stratify = Y)"
   ]
  },
  {
   "cell_type": "markdown",
   "id": "810d59f1-79d8-49b5-9c3b-d73d0c162e6c",
   "metadata": {},
   "source": [
    "# Random Forest"
   ]
  },
  {
   "cell_type": "code",
   "execution_count": 11,
   "id": "66558649-bada-4ef8-9c8e-d17db1f22edc",
   "metadata": {
    "tags": []
   },
   "outputs": [
    {
     "name": "stdout",
     "output_type": "stream",
     "text": [
      "[[2260   26]\n",
      " [  55  659]]\n",
      "The cost of the rf model is 386000\n"
     ]
    }
   ],
   "source": [
    "## Grid ##\n",
    "rf_grid = {'n_estimators': [100, 300, 500],\n",
    "           'min_samples_split': [10, 15],\n",
    "           'min_samples_leaf': [5, 7],\n",
    "           'max_depth': [3, 5, 7]}\n",
    "\n",
    "## Score Function ##\n",
    "score_function = make_scorer(cost_function, greater_is_better = True, needs_proba = True)\n",
    "\n",
    "## Search ##\n",
    "rf_search = GridSearchCV(estimator = RandomForestClassifier(), param_grid = rf_grid, cv = 3, scoring = score_function, n_jobs = -1).fit(X_train, Y_train)\n",
    "rf_md = rf_search.best_estimator_\n",
    "\n",
    "## Prediction ##\n",
    "rf_pred = rf_md.predict_proba(X_test)[:, 1]\n",
    "\n",
    "## cutoff ##\n",
    "rf_cut = cost_function_cutoff(Y_test, rf_pred)\n",
    "\n",
    "## Labels ##\n",
    "rf_label = np.where(rf_pred < rf_cut, 0, 1)\n",
    "\n",
    "## Evaluate ##\n",
    "rf_mat = confusion_matrix(Y_test, rf_label)\n",
    "print(rf_mat)\n",
    "print('The cost of the rf model is', 1500*rf_mat[1,0] - 1000*rf_mat[0,1] + 500*rf_mat[1,1])"
   ]
  },
  {
   "cell_type": "markdown",
   "id": "2e4eb6fb-4c78-4bb4-92c7-43d043b94a11",
   "metadata": {},
   "source": [
    "# XG Boost"
   ]
  },
  {
   "cell_type": "code",
   "execution_count": 19,
   "id": "60b0c140-5f98-4cfc-8953-c2631d7f6f04",
   "metadata": {
    "tags": []
   },
   "outputs": [
    {
     "name": "stdout",
     "output_type": "stream",
     "text": [
      "[[2262   24]\n",
      " [  61  653]]\n",
      "The cost of the xg model is 394000\n"
     ]
    }
   ],
   "source": [
    "xg_grid = {'n_estimators': [500],\n",
    "           'max_depth': [3, 5, 7],\n",
    "           'min_child_weight': [5, 7],\n",
    "           'learning_rate': [0.01],\n",
    "           'gamma': [0.3, 0.1],\n",
    "           'subsample': [0.8, 1],\n",
    "           'colsample_bytree': [1]}\n",
    "\n",
    "## Score Function ##\n",
    "score_function = make_scorer(cost_function, greater_is_better = True, needs_proba = True)\n",
    "\n",
    "## Search ##\n",
    "xg_search = GridSearchCV(estimator = XGBClassifier(), param_grid = xg_grid, cv = 3, scoring = score_function, n_jobs = -1).fit(X_train, Y_train)\n",
    "xg_md = xg_search.best_estimator_\n",
    "\n",
    "## Prediction ##\n",
    "xg_pred = xg_md.predict_proba(X_test)[:, 1]\n",
    "\n",
    "## cutoff ##\n",
    "xg_cut = cost_function_cutoff(Y_test, xg_pred)\n",
    "\n",
    "## Labels ##\n",
    "xg_label = np.where(xg_pred < xg_cut, 0, 1)\n",
    "\n",
    "## Evaluate ##\n",
    "xg_mat = confusion_matrix(Y_test, xg_label)\n",
    "print(xg_mat)\n",
    "print('The cost of the xg model is', 1500*xg_mat[1,0] - 1000*xg_mat[0,1] + 500*xg_mat[1,1])"
   ]
  },
  {
   "cell_type": "markdown",
   "id": "bc425ecd-ae1f-4ac0-bf59-93524866847f",
   "metadata": {},
   "source": [
    "Based on my results, the random forest model is best for predicting left"
   ]
  }
 ],
 "metadata": {
  "kernelspec": {
   "display_name": "conda_python3",
   "language": "python",
   "name": "conda_python3"
  },
  "language_info": {
   "codemirror_mode": {
    "name": "ipython",
    "version": 3
   },
   "file_extension": ".py",
   "mimetype": "text/x-python",
   "name": "python",
   "nbconvert_exporter": "python",
   "pygments_lexer": "ipython3",
   "version": "3.10.8"
  }
 },
 "nbformat": 4,
 "nbformat_minor": 5
}
