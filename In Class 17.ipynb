{
 "cells": [
  {
   "cell_type": "code",
   "execution_count": 1,
   "id": "a2786934-dcdf-49df-96fc-3a343823ba7f",
   "metadata": {
    "collapsed": true,
    "jupyter": {
     "outputs_hidden": true
    },
    "tags": []
   },
   "outputs": [
    {
     "name": "stdout",
     "output_type": "stream",
     "text": [
      "Looking in indexes: https://pypi.org/simple, https://pip.repos.neuron.amazonaws.com\n",
      "Collecting optuna\n",
      "  Downloading optuna-3.1.0-py3-none-any.whl (365 kB)\n",
      "\u001b[2K     \u001b[90m━━━━━━━━━━━━━━━━━━━━━━━━━━━━━━━━━━━━━━━\u001b[0m \u001b[32m365.3/365.3 kB\u001b[0m \u001b[31m4.6 MB/s\u001b[0m eta \u001b[36m0:00:00\u001b[0m00:01\u001b[0m00:01\u001b[0m\n",
      "\u001b[?25hCollecting cmaes>=0.9.1\n",
      "  Downloading cmaes-0.9.1-py3-none-any.whl (21 kB)\n",
      "Requirement already satisfied: packaging>=20.0 in /home/ec2-user/anaconda3/envs/mxnet_p38/lib/python3.8/site-packages (from optuna) (21.3)\n",
      "Collecting colorlog\n",
      "  Downloading colorlog-6.7.0-py2.py3-none-any.whl (11 kB)\n",
      "Requirement already satisfied: PyYAML in /home/ec2-user/anaconda3/envs/mxnet_p38/lib/python3.8/site-packages (from optuna) (5.4.1)\n",
      "Requirement already satisfied: numpy in /home/ec2-user/anaconda3/envs/mxnet_p38/lib/python3.8/site-packages (from optuna) (1.22.3)\n",
      "Collecting alembic>=1.5.0\n",
      "  Downloading alembic-1.10.2-py3-none-any.whl (212 kB)\n",
      "\u001b[2K     \u001b[90m━━━━━━━━━━━━━━━━━━━━━━━━━━━━━━━━━━━━━━━\u001b[0m \u001b[32m212.2/212.2 kB\u001b[0m \u001b[31m5.0 MB/s\u001b[0m eta \u001b[36m0:00:00\u001b[0ma \u001b[36m0:00:01\u001b[0m\n",
      "\u001b[?25hRequirement already satisfied: tqdm in /home/ec2-user/anaconda3/envs/mxnet_p38/lib/python3.8/site-packages (from optuna) (4.63.2)\n",
      "Requirement already satisfied: sqlalchemy>=1.3.0 in /home/ec2-user/anaconda3/envs/mxnet_p38/lib/python3.8/site-packages (from optuna) (1.4.46)\n",
      "Requirement already satisfied: importlib-metadata in /home/ec2-user/anaconda3/envs/mxnet_p38/lib/python3.8/site-packages (from alembic>=1.5.0->optuna) (4.13.0)\n",
      "Collecting Mako\n",
      "  Downloading Mako-1.2.4-py3-none-any.whl (78 kB)\n",
      "\u001b[2K     \u001b[90m━━━━━━━━━━━━━━━━━━━━━━━━━━━━━━━━━━━━━━━━\u001b[0m \u001b[32m78.7/78.7 kB\u001b[0m \u001b[31m20.5 MB/s\u001b[0m eta \u001b[36m0:00:00\u001b[0m\n",
      "\u001b[?25hRequirement already satisfied: importlib-resources in /home/ec2-user/anaconda3/envs/mxnet_p38/lib/python3.8/site-packages (from alembic>=1.5.0->optuna) (5.10.2)\n",
      "Requirement already satisfied: typing-extensions>=4 in /home/ec2-user/anaconda3/envs/mxnet_p38/lib/python3.8/site-packages (from alembic>=1.5.0->optuna) (4.4.0)\n",
      "Requirement already satisfied: pyparsing!=3.0.5,>=2.0.2 in /home/ec2-user/anaconda3/envs/mxnet_p38/lib/python3.8/site-packages (from packaging>=20.0->optuna) (3.0.9)\n",
      "Requirement already satisfied: greenlet!=0.4.17 in /home/ec2-user/anaconda3/envs/mxnet_p38/lib/python3.8/site-packages (from sqlalchemy>=1.3.0->optuna) (2.0.1)\n",
      "Requirement already satisfied: zipp>=0.5 in /home/ec2-user/anaconda3/envs/mxnet_p38/lib/python3.8/site-packages (from importlib-metadata->alembic>=1.5.0->optuna) (3.11.0)\n",
      "Requirement already satisfied: MarkupSafe>=0.9.2 in /home/ec2-user/anaconda3/envs/mxnet_p38/lib/python3.8/site-packages (from Mako->alembic>=1.5.0->optuna) (2.1.1)\n",
      "Installing collected packages: Mako, colorlog, cmaes, alembic, optuna\n",
      "Successfully installed Mako-1.2.4 alembic-1.10.2 cmaes-0.9.1 colorlog-6.7.0 optuna-3.1.0\n",
      "Note: you may need to restart the kernel to use updated packages.\n"
     ]
    }
   ],
   "source": [
    "pip install optuna"
   ]
  },
  {
   "cell_type": "markdown",
   "id": "3469c679-323a-4a14-9066-d4f6da837e19",
   "metadata": {},
   "source": [
    "# Imports"
   ]
  },
  {
   "cell_type": "code",
   "execution_count": 17,
   "id": "1fb696f6-3f0e-4c43-900d-1459132e6ebc",
   "metadata": {
    "tags": []
   },
   "outputs": [],
   "source": [
    "import boto3\n",
    "import optuna\n",
    "import pandas as pd\n",
    "import numpy as np\n",
    "\n",
    "import matplotlib.pyplot as plt\n",
    "\n",
    "from scipy.stats import boxcox\n",
    "from sklearn.svm import SVC\n",
    "from sklearn.tree import DecisionTreeClassifier, plot_tree\n",
    "from sklearn.metrics import classification_report, confusion_matrix\n",
    "from sklearn.ensemble import RandomForestClassifier, AdaBoostClassifier, GradientBoostingClassifier\n",
    "from sklearn.linear_model import LogisticRegression\n",
    "from sklearn.preprocessing import MinMaxScaler\n",
    "from sklearn.model_selection import train_test_split, GridSearchCV, RandomizedSearchCV, StratifiedKFold\n",
    "from sklearn.feature_selection import RFE, RFECV\n",
    "\n",
    "from cost_function import cost_function\n",
    "from precision_recall_cutoff import precision_recall_cutoff"
   ]
  },
  {
   "cell_type": "markdown",
   "id": "efcf8519-aed1-4241-ad9d-ec734895db75",
   "metadata": {},
   "source": [
    "# Data"
   ]
  },
  {
   "cell_type": "code",
   "execution_count": 7,
   "id": "9c9de727-207c-4979-8cc2-464c855b5ccf",
   "metadata": {
    "tags": []
   },
   "outputs": [],
   "source": [
    "train = pd.read_csv('turnover_train.csv')\n",
    "test = pd.read_csv('turnover_test.csv')\n",
    "val = pd.read_csv('turnover_val.csv')"
   ]
  },
  {
   "cell_type": "markdown",
   "id": "0cfa6325-5793-4bea-b2a5-9b353fe36647",
   "metadata": {},
   "source": [
    "# Feature Engineering"
   ]
  },
  {
   "cell_type": "code",
   "execution_count": 8,
   "id": "035cab4a-eaec-408e-8adb-651c7d1f5bb2",
   "metadata": {
    "tags": []
   },
   "outputs": [],
   "source": [
    "## Train ##\n",
    "## Create Dummies ##\n",
    "train = pd.concat([train.drop(columns = ['sales', 'salary'], axis = 1), pd.get_dummies(train[['sales', 'salary']])], axis = 1)\n",
    "\n",
    "## Feature Engineering ##\n",
    "train['interaction_1'] = np.where((train['satisfaction_level'] >= .115) &\n",
    "                                     (train['satisfaction_level'] <= .465) &\n",
    "                                     (train['number_project'] > 2.5), 1, 0)\n",
    "\n",
    "train['interaction_2'] = np.where((train['satisfaction_level'] >= .465) &\n",
    "                                     (train['number_project'] <= 2.5) &\n",
    "                                     (train['last_evaluation'] <= .575), 1, 0)\n",
    "\n",
    "train['interaction_3'] = np.where((train['satisfaction_level'] >= .465) &\n",
    "                                     (train['time_spend_company'] <= 4.5) &\n",
    "                                     (train['number_project'] <= 290.5), 1, 0)\n",
    "\n",
    "\n",
    "## Test ##\n",
    "## Create Dummies ##\n",
    "test = pd.concat([test.drop(columns = ['sales', 'salary'], axis = 1), pd.get_dummies(test[['sales', 'salary']])], axis = 1)\n",
    "\n",
    "## Feature Engineering ##\n",
    "test['interaction_1'] = np.where((test['satisfaction_level'] >= .115) &\n",
    "                                     (test['satisfaction_level'] <= .465) &\n",
    "                                     (test['number_project'] > 2.5), 1, 0)\n",
    "\n",
    "test['interaction_2'] = np.where((test['satisfaction_level'] >= .465) &\n",
    "                                     (test['number_project'] <= 2.5) &\n",
    "                                     (test['last_evaluation'] <= .575), 1, 0)\n",
    "\n",
    "test['interaction_3'] = np.where((test['satisfaction_level'] >= .465) &\n",
    "                                     (test['time_spend_company'] <= 4.5) &\n",
    "                                     (test['number_project'] <= 290.5), 1, 0)\n",
    "\n",
    "\n",
    "## Validation ##\n",
    "## Create Dummies ##\n",
    "val = pd.concat([val.drop(columns = ['sales', 'salary'], axis = 1), pd.get_dummies(val[['sales', 'salary']])], axis = 1)\n",
    "\n",
    "## Feature Engineering ##\n",
    "val['interaction_1'] = np.where((val['satisfaction_level'] >= .115) &\n",
    "                                     (val['satisfaction_level'] <= .465) &\n",
    "                                     (val['number_project'] > 2.5), 1, 0)\n",
    "\n",
    "val['interaction_2'] = np.where((val['satisfaction_level'] >= .465) &\n",
    "                                     (val['number_project'] <= 2.5) &\n",
    "                                     (val['last_evaluation'] <= .575), 1, 0)\n",
    "\n",
    "val['interaction_3'] = np.where((val['satisfaction_level'] >= .465) &\n",
    "                                     (val['time_spend_company'] <= 4.5) &\n",
    "                                     (val['number_project'] <= 290.5), 1, 0)"
   ]
  },
  {
   "cell_type": "code",
   "execution_count": 9,
   "id": "34633fe4-8ac2-4c5b-a351-b3a3734e4907",
   "metadata": {
    "tags": []
   },
   "outputs": [],
   "source": [
    "X = train[['interaction_3', 'interaction_1', 'satisfaction_level', 'time_spend_company', 'number_project']]\n",
    "Y = train['left']\n",
    "\n",
    "class Objective:\n",
    "    def __init__(self, seed):\n",
    "        self.seed = seed\n",
    "        \n",
    "    def __call__(self, trial):\n",
    "        params = dict(n_estimators = trial.suggest_int('n_estimators', 100, 2000),\n",
    "                      min_samples_split = trial.suggest_int('min_samples_split', 5, 30),\n",
    "                      min_samples_leaf = trial.suggest_int('min_samples_leaf', 5, 30),\n",
    "                      max_depth = trial.suggest_int('max_depth', 2, 10)\n",
    "                     )\n",
    "        scores = list()\n",
    "        \n",
    "        skf = StratifiedKFold(n_splits = 3, shuffle = True, random_state = self.seed)\n",
    "        \n",
    "        for train_idx, valid_idx in skf.split(X, Y):\n",
    "            X_train, X_valid = X.iloc[train_idx], X.iloc[valid_idx]\n",
    "            Y_train, Y_valid = Y.iloc[train_idx], Y.iloc[valid_idx]\n",
    "            \n",
    "            rf_md = RandomForestClassifier(**params).fit(X_train, Y_train)\n",
    "            pred_valid = rf_md.predict_proba(X_valid)[:, 1]\n",
    "            score = cost_function(Y_valid, pred_valid)\n",
    "            scores.append(score[0])\n",
    "            \n",
    "        return np.mean(scores)\n"
   ]
  },
  {
   "cell_type": "code",
   "execution_count": 12,
   "id": "a062822b-1fe8-47bd-81e3-3f9f39d47cc9",
   "metadata": {
    "tags": []
   },
   "outputs": [
    {
     "name": "stderr",
     "output_type": "stream",
     "text": [
      "\u001b[32m[I 2023-03-24 22:27:35,467]\u001b[0m A new study created in memory with name: no-name-ac974ba7-6a0a-4c3a-b807-3218ce447fd6\u001b[0m\n",
      "\u001b[32m[I 2023-03-24 22:27:40,996]\u001b[0m Trial 0 finished with value: 287666.6666666667 and parameters: {'n_estimators': 445, 'min_samples_split': 24, 'min_samples_leaf': 15, 'max_depth': 10}. Best is trial 0 with value: 287666.6666666667.\u001b[0m\n",
      "\u001b[32m[I 2023-03-24 22:27:48,659]\u001b[0m Trial 1 finished with value: 219166.66666666666 and parameters: {'n_estimators': 838, 'min_samples_split': 20, 'min_samples_leaf': 20, 'max_depth': 4}. Best is trial 0 with value: 287666.6666666667.\u001b[0m\n",
      "\u001b[32m[I 2023-03-24 22:27:51,403]\u001b[0m Trial 2 finished with value: 260166.66666666666 and parameters: {'n_estimators': 241, 'min_samples_split': 30, 'min_samples_leaf': 30, 'max_depth': 8}. Best is trial 0 with value: 287666.6666666667.\u001b[0m\n",
      "\u001b[32m[I 2023-03-24 22:28:12,361]\u001b[0m Trial 3 finished with value: 263166.6666666667 and parameters: {'n_estimators': 1962, 'min_samples_split': 14, 'min_samples_leaf': 27, 'max_depth': 6}. Best is trial 0 with value: 287666.6666666667.\u001b[0m\n",
      "\u001b[32m[I 2023-03-24 22:28:20,200]\u001b[0m Trial 4 finished with value: 264666.6666666667 and parameters: {'n_estimators': 730, 'min_samples_split': 16, 'min_samples_leaf': 28, 'max_depth': 7}. Best is trial 0 with value: 287666.6666666667.\u001b[0m\n",
      "\u001b[32m[I 2023-03-24 22:28:25,374]\u001b[0m Trial 5 finished with value: 78666.66666666667 and parameters: {'n_estimators': 660, 'min_samples_split': 22, 'min_samples_leaf': 7, 'max_depth': 2}. Best is trial 0 with value: 287666.6666666667.\u001b[0m\n",
      "\u001b[32m[I 2023-03-24 22:28:29,729]\u001b[0m Trial 6 finished with value: 263166.6666666667 and parameters: {'n_estimators': 409, 'min_samples_split': 30, 'min_samples_leaf': 27, 'max_depth': 7}. Best is trial 0 with value: 287666.6666666667.\u001b[0m\n",
      "\u001b[32m[I 2023-03-24 22:28:43,756]\u001b[0m Trial 7 finished with value: 298166.6666666667 and parameters: {'n_estimators': 1233, 'min_samples_split': 10, 'min_samples_leaf': 5, 'max_depth': 8}. Best is trial 7 with value: 298166.6666666667.\u001b[0m\n",
      "\u001b[32m[I 2023-03-24 22:28:45,027]\u001b[0m Trial 8 finished with value: 78666.66666666667 and parameters: {'n_estimators': 143, 'min_samples_split': 17, 'min_samples_leaf': 24, 'max_depth': 2}. Best is trial 7 with value: 298166.6666666667.\u001b[0m\n",
      "\u001b[32m[I 2023-03-24 22:28:47,811]\u001b[0m Trial 9 finished with value: 220166.66666666666 and parameters: {'n_estimators': 294, 'min_samples_split': 13, 'min_samples_leaf': 17, 'max_depth': 4}. Best is trial 7 with value: 298166.6666666667.\u001b[0m\n",
      "\u001b[32m[I 2023-03-24 22:29:05,947]\u001b[0m Trial 10 finished with value: 299166.6666666667 and parameters: {'n_estimators': 1415, 'min_samples_split': 5, 'min_samples_leaf': 5, 'max_depth': 10}. Best is trial 10 with value: 299166.6666666667.\u001b[0m\n",
      "/home/ec2-user/anaconda3/envs/mxnet_p38/lib/python3.8/site-packages/optuna/samplers/_tpe/_erf.py:132: RuntimeWarning: divide by zero encountered in true_divide\n",
      "  s = one / (x * x)\n",
      "\u001b[32m[I 2023-03-24 22:29:23,083]\u001b[0m Trial 11 finished with value: 299666.6666666667 and parameters: {'n_estimators': 1420, 'min_samples_split': 5, 'min_samples_leaf': 5, 'max_depth': 10}. Best is trial 11 with value: 299666.6666666667.\u001b[0m\n",
      "\u001b[32m[I 2023-03-24 22:29:39,971]\u001b[0m Trial 12 finished with value: 292666.6666666667 and parameters: {'n_estimators': 1450, 'min_samples_split': 5, 'min_samples_leaf': 10, 'max_depth': 10}. Best is trial 11 with value: 299666.6666666667.\u001b[0m\n",
      "\u001b[32m[I 2023-03-24 22:29:59,724]\u001b[0m Trial 13 finished with value: 291666.6666666667 and parameters: {'n_estimators': 1564, 'min_samples_split': 5, 'min_samples_leaf': 11, 'max_depth': 10}. Best is trial 11 with value: 299666.6666666667.\u001b[0m\n",
      "/home/ec2-user/anaconda3/envs/mxnet_p38/lib/python3.8/site-packages/optuna/samplers/_tpe/_erf.py:132: RuntimeWarning: divide by zero encountered in true_divide\n",
      "  s = one / (x * x)\n",
      "\u001b[32m[I 2023-03-24 22:30:27,807]\u001b[0m Trial 14 finished with value: 292666.6666666667 and parameters: {'n_estimators': 1755, 'min_samples_split': 8, 'min_samples_leaf': 10, 'max_depth': 9}. Best is trial 11 with value: 299666.6666666667.\u001b[0m\n",
      "/home/ec2-user/anaconda3/envs/mxnet_p38/lib/python3.8/site-packages/optuna/samplers/_tpe/_erf.py:132: RuntimeWarning: divide by zero encountered in true_divide\n",
      "  s = one / (x * x)\n",
      "\u001b[32m[I 2023-03-24 22:30:42,029]\u001b[0m Trial 15 finished with value: 298666.6666666667 and parameters: {'n_estimators': 1126, 'min_samples_split': 10, 'min_samples_leaf': 5, 'max_depth': 9}. Best is trial 11 with value: 299666.6666666667.\u001b[0m\n",
      "/home/ec2-user/anaconda3/envs/mxnet_p38/lib/python3.8/site-packages/optuna/samplers/_tpe/_erf.py:132: RuntimeWarning: divide by zero encountered in true_divide\n",
      "  s = one / (x * x)\n",
      "\u001b[32m[I 2023-03-24 22:30:56,685]\u001b[0m Trial 16 finished with value: 274166.6666666667 and parameters: {'n_estimators': 1403, 'min_samples_split': 8, 'min_samples_leaf': 13, 'max_depth': 5}. Best is trial 11 with value: 299666.6666666667.\u001b[0m\n",
      "/home/ec2-user/anaconda3/envs/mxnet_p38/lib/python3.8/site-packages/optuna/samplers/_tpe/_erf.py:132: RuntimeWarning: divide by zero encountered in true_divide\n",
      "  s = one / (x * x)\n",
      "\u001b[32m[I 2023-03-24 22:31:10,564]\u001b[0m Trial 17 finished with value: 294666.6666666667 and parameters: {'n_estimators': 953, 'min_samples_split': 5, 'min_samples_leaf': 8, 'max_depth': 9}. Best is trial 11 with value: 299666.6666666667.\u001b[0m\n",
      "/home/ec2-user/anaconda3/envs/mxnet_p38/lib/python3.8/site-packages/optuna/samplers/_tpe/_erf.py:132: RuntimeWarning: divide by zero encountered in true_divide\n",
      "  s = one / (x * x)\n",
      "\u001b[32m[I 2023-03-24 22:31:30,907]\u001b[0m Trial 18 finished with value: 271666.6666666667 and parameters: {'n_estimators': 1710, 'min_samples_split': 12, 'min_samples_leaf': 21, 'max_depth': 8}. Best is trial 11 with value: 299666.6666666667.\u001b[0m\n",
      "\u001b[32m[I 2023-03-24 22:31:47,234]\u001b[0m Trial 19 finished with value: 291166.6666666667 and parameters: {'n_estimators': 1298, 'min_samples_split': 26, 'min_samples_leaf': 13, 'max_depth': 10}. Best is trial 11 with value: 299666.6666666667.\u001b[0m\n"
     ]
    }
   ],
   "source": [
    "study = optuna.create_study(direction = 'maximize')\n",
    "study.optimize(Objective(42), n_trials = 20)"
   ]
  },
  {
   "cell_type": "code",
   "execution_count": 13,
   "id": "7fb9bd35-a3cf-4cdb-a8a2-ec241c666841",
   "metadata": {
    "tags": []
   },
   "outputs": [
    {
     "data": {
      "text/plain": [
       "{'n_estimators': 1420,\n",
       " 'min_samples_split': 5,\n",
       " 'min_samples_leaf': 5,\n",
       " 'max_depth': 10}"
      ]
     },
     "execution_count": 13,
     "metadata": {},
     "output_type": "execute_result"
    }
   ],
   "source": [
    "study.best_trial.params"
   ]
  },
  {
   "cell_type": "code",
   "execution_count": 19,
   "id": "28e99db4-2985-47e5-8248-9576bce8c616",
   "metadata": {
    "tags": []
   },
   "outputs": [
    {
     "name": "stdout",
     "output_type": "stream",
     "text": [
      "The cost of the rf model is 109500\n"
     ]
    }
   ],
   "source": [
    "## Model ##\n",
    "md = RandomForestClassifier(**study.best_trial.params).fit(X, Y)\n",
    "\n",
    "X_val = val[['interaction_3', 'interaction_1', 'satisfaction_level', 'time_spend_company', 'number_project']]\n",
    "X_test = test[['interaction_3', 'interaction_1', 'satisfaction_level', 'time_spend_company', 'number_project']]\n",
    "\n",
    "Y_val = val['left']\n",
    "Y_test = test['left']\n",
    "\n",
    "## Prediction ##\n",
    "val_pred = md.predict_proba(X_val)[:, 1]\n",
    "test_pred = md.predict_proba(X_test)[:, 1]\n",
    "\n",
    "cutoff = cost_function(Y_val, val_pred)[1]\n",
    "\n",
    "label = np.where(test_pred < cutoff, 0, 1)\n",
    "\n",
    "mat = confusion_matrix(Y_test, label)\n",
    "## Metric ##\n",
    "print('The cost of the rf model is', -1000 * mat[1, 0] - 1500 * mat[0, 1] + 500 * mat[1, 1])"
   ]
  }
 ],
 "metadata": {
  "kernelspec": {
   "display_name": "conda_mxnet_p38",
   "language": "python",
   "name": "conda_mxnet_p38"
  },
  "language_info": {
   "codemirror_mode": {
    "name": "ipython",
    "version": 3
   },
   "file_extension": ".py",
   "mimetype": "text/x-python",
   "name": "python",
   "nbconvert_exporter": "python",
   "pygments_lexer": "ipython3",
   "version": "3.8.15"
  }
 },
 "nbformat": 4,
 "nbformat_minor": 5
}
