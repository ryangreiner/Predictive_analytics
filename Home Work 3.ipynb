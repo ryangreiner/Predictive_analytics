{
 "cells": [
  {
   "cell_type": "code",
   "execution_count": 1,
   "id": "87f41972-c3c4-4d40-8ab2-6cf32f338071",
   "metadata": {},
   "outputs": [
    {
     "data": {
      "text/html": [
       "<div>\n",
       "<style scoped>\n",
       "    .dataframe tbody tr th:only-of-type {\n",
       "        vertical-align: middle;\n",
       "    }\n",
       "\n",
       "    .dataframe tbody tr th {\n",
       "        vertical-align: top;\n",
       "    }\n",
       "\n",
       "    .dataframe thead th {\n",
       "        text-align: right;\n",
       "    }\n",
       "</style>\n",
       "<table border=\"1\" class=\"dataframe\">\n",
       "  <thead>\n",
       "    <tr style=\"text-align: right;\">\n",
       "      <th></th>\n",
       "      <th>id</th>\n",
       "      <th>product_code</th>\n",
       "      <th>loading</th>\n",
       "      <th>attribute_0</th>\n",
       "      <th>attribute_1</th>\n",
       "      <th>attribute_2</th>\n",
       "      <th>attribute_3</th>\n",
       "      <th>measurement_0</th>\n",
       "      <th>measurement_1</th>\n",
       "      <th>measurement_2</th>\n",
       "      <th>...</th>\n",
       "      <th>measurement_9</th>\n",
       "      <th>measurement_10</th>\n",
       "      <th>measurement_11</th>\n",
       "      <th>measurement_12</th>\n",
       "      <th>measurement_13</th>\n",
       "      <th>measurement_14</th>\n",
       "      <th>measurement_15</th>\n",
       "      <th>measurement_16</th>\n",
       "      <th>measurement_17</th>\n",
       "      <th>failure</th>\n",
       "    </tr>\n",
       "  </thead>\n",
       "  <tbody>\n",
       "    <tr>\n",
       "      <th>0</th>\n",
       "      <td>0</td>\n",
       "      <td>A</td>\n",
       "      <td>80.10</td>\n",
       "      <td>material_7</td>\n",
       "      <td>material_8</td>\n",
       "      <td>9</td>\n",
       "      <td>5</td>\n",
       "      <td>7</td>\n",
       "      <td>8</td>\n",
       "      <td>4</td>\n",
       "      <td>...</td>\n",
       "      <td>10.672</td>\n",
       "      <td>15.859</td>\n",
       "      <td>17.594</td>\n",
       "      <td>15.193</td>\n",
       "      <td>15.029</td>\n",
       "      <td>NaN</td>\n",
       "      <td>13.034</td>\n",
       "      <td>14.684</td>\n",
       "      <td>764.100</td>\n",
       "      <td>0</td>\n",
       "    </tr>\n",
       "    <tr>\n",
       "      <th>1</th>\n",
       "      <td>1</td>\n",
       "      <td>A</td>\n",
       "      <td>84.89</td>\n",
       "      <td>material_7</td>\n",
       "      <td>material_8</td>\n",
       "      <td>9</td>\n",
       "      <td>5</td>\n",
       "      <td>14</td>\n",
       "      <td>3</td>\n",
       "      <td>3</td>\n",
       "      <td>...</td>\n",
       "      <td>12.448</td>\n",
       "      <td>17.947</td>\n",
       "      <td>17.915</td>\n",
       "      <td>11.755</td>\n",
       "      <td>14.732</td>\n",
       "      <td>15.425</td>\n",
       "      <td>14.395</td>\n",
       "      <td>15.631</td>\n",
       "      <td>682.057</td>\n",
       "      <td>0</td>\n",
       "    </tr>\n",
       "    <tr>\n",
       "      <th>2</th>\n",
       "      <td>2</td>\n",
       "      <td>A</td>\n",
       "      <td>82.43</td>\n",
       "      <td>material_7</td>\n",
       "      <td>material_8</td>\n",
       "      <td>9</td>\n",
       "      <td>5</td>\n",
       "      <td>12</td>\n",
       "      <td>1</td>\n",
       "      <td>5</td>\n",
       "      <td>...</td>\n",
       "      <td>12.715</td>\n",
       "      <td>15.607</td>\n",
       "      <td>NaN</td>\n",
       "      <td>13.798</td>\n",
       "      <td>16.711</td>\n",
       "      <td>18.631</td>\n",
       "      <td>14.094</td>\n",
       "      <td>17.946</td>\n",
       "      <td>663.376</td>\n",
       "      <td>0</td>\n",
       "    </tr>\n",
       "    <tr>\n",
       "      <th>3</th>\n",
       "      <td>3</td>\n",
       "      <td>A</td>\n",
       "      <td>101.07</td>\n",
       "      <td>material_7</td>\n",
       "      <td>material_8</td>\n",
       "      <td>9</td>\n",
       "      <td>5</td>\n",
       "      <td>13</td>\n",
       "      <td>2</td>\n",
       "      <td>6</td>\n",
       "      <td>...</td>\n",
       "      <td>12.471</td>\n",
       "      <td>16.346</td>\n",
       "      <td>18.377</td>\n",
       "      <td>10.020</td>\n",
       "      <td>15.250</td>\n",
       "      <td>15.562</td>\n",
       "      <td>16.154</td>\n",
       "      <td>17.172</td>\n",
       "      <td>826.282</td>\n",
       "      <td>0</td>\n",
       "    </tr>\n",
       "    <tr>\n",
       "      <th>4</th>\n",
       "      <td>4</td>\n",
       "      <td>A</td>\n",
       "      <td>188.06</td>\n",
       "      <td>material_7</td>\n",
       "      <td>material_8</td>\n",
       "      <td>9</td>\n",
       "      <td>5</td>\n",
       "      <td>9</td>\n",
       "      <td>2</td>\n",
       "      <td>8</td>\n",
       "      <td>...</td>\n",
       "      <td>10.337</td>\n",
       "      <td>17.082</td>\n",
       "      <td>19.932</td>\n",
       "      <td>12.428</td>\n",
       "      <td>16.182</td>\n",
       "      <td>12.760</td>\n",
       "      <td>13.153</td>\n",
       "      <td>16.412</td>\n",
       "      <td>579.885</td>\n",
       "      <td>0</td>\n",
       "    </tr>\n",
       "  </tbody>\n",
       "</table>\n",
       "<p>5 rows × 26 columns</p>\n",
       "</div>"
      ],
      "text/plain": [
       "   id product_code  loading attribute_0 attribute_1  attribute_2  attribute_3  \\\n",
       "0   0            A    80.10  material_7  material_8            9            5   \n",
       "1   1            A    84.89  material_7  material_8            9            5   \n",
       "2   2            A    82.43  material_7  material_8            9            5   \n",
       "3   3            A   101.07  material_7  material_8            9            5   \n",
       "4   4            A   188.06  material_7  material_8            9            5   \n",
       "\n",
       "   measurement_0  measurement_1  measurement_2  ...  measurement_9  \\\n",
       "0              7              8              4  ...         10.672   \n",
       "1             14              3              3  ...         12.448   \n",
       "2             12              1              5  ...         12.715   \n",
       "3             13              2              6  ...         12.471   \n",
       "4              9              2              8  ...         10.337   \n",
       "\n",
       "   measurement_10  measurement_11  measurement_12  measurement_13  \\\n",
       "0          15.859          17.594          15.193          15.029   \n",
       "1          17.947          17.915          11.755          14.732   \n",
       "2          15.607             NaN          13.798          16.711   \n",
       "3          16.346          18.377          10.020          15.250   \n",
       "4          17.082          19.932          12.428          16.182   \n",
       "\n",
       "   measurement_14  measurement_15  measurement_16  measurement_17  failure  \n",
       "0             NaN          13.034          14.684         764.100        0  \n",
       "1          15.425          14.395          15.631         682.057        0  \n",
       "2          18.631          14.094          17.946         663.376        0  \n",
       "3          15.562          16.154          17.172         826.282        0  \n",
       "4          12.760          13.153          16.412         579.885        0  \n",
       "\n",
       "[5 rows x 26 columns]"
      ]
     },
     "execution_count": 1,
     "metadata": {},
     "output_type": "execute_result"
    }
   ],
   "source": [
    "import boto3\n",
    "import pandas as pd\n",
    "import numpy as np\n",
    "import seaborn as sns\n",
    "\n",
    "import matplotlib.pyplot as plt\n",
    "\n",
    "from sklearn.model_selection import train_test_split\n",
    "from sklearn.ensemble import RandomForestClassifier, AdaBoostClassifier\n",
    "from sklearn.tree import DecisionTreeClassifier\n",
    "from sklearn.metrics import classification_report\n",
    "from sklearn.impute import KNNImputer\n",
    "from sklearn.preprocessing import MinMaxScaler\n",
    "from sklearn.metrics import roc_auc_score\n",
    "\n",
    "\n",
    "## Defining the s3 bucket\n",
    "s3 = boto3.resource('s3')\n",
    "bucket_name = 'ryan-greiner-bucket'\n",
    "bucket = s3.Bucket(bucket_name)\n",
    "\n",
    "## Defining the file to be read from s3 bucket\n",
    "file_key = 'predictive_analytics/train(1).csv'\n",
    "bucket_object = bucket.Object(file_key)\n",
    "file_object = bucket_object.get()\n",
    "file_content_stream = file_object.get('Body')\n",
    "\n",
    "## Reading CSV file\n",
    "train_data = pd.read_csv(file_content_stream)\n",
    "train_data.head()"
   ]
  },
  {
   "cell_type": "code",
   "execution_count": 2,
   "id": "024a641b-2318-48f7-8023-7759a29695bf",
   "metadata": {},
   "outputs": [
    {
     "data": {
      "text/plain": [
       "C    5765\n",
       "E    5343\n",
       "B    5250\n",
       "D    5112\n",
       "A    5100\n",
       "Name: product_code, dtype: int64"
      ]
     },
     "execution_count": 2,
     "metadata": {},
     "output_type": "execute_result"
    }
   ],
   "source": [
    "train_data['product_code'].value_counts()"
   ]
  },
  {
   "cell_type": "markdown",
   "id": "4e7ebbe0-f2cd-4248-89cc-10eba9f967e8",
   "metadata": {},
   "source": [
    "Make 2 visualizations"
   ]
  },
  {
   "cell_type": "code",
   "execution_count": 3,
   "id": "6aaff1cd-2361-4b5f-a3d4-4b30b6bf03b5",
   "metadata": {},
   "outputs": [
    {
     "data": {
      "text/plain": [
       "<AxesSubplot: xlabel='product_code', ylabel='measurement_2'>"
      ]
     },
     "execution_count": 3,
     "metadata": {},
     "output_type": "execute_result"
    },
    {
     "data": {
      "image/png": "[encoded data removed]",
      "text/plain": [
       "<Figure size 1200x600 with 2 Axes>"
      ]
     },
     "metadata": {},
     "output_type": "display_data"
    }
   ],
   "source": [
    "fig, axes = plt.subplots(1, 2, figsize = (12, 6))\n",
    "\n",
    "sns.boxplot(ax = axes[0], x = 'product_code', y = 'measurement_1', data = train_data)\n",
    "sns.boxplot(ax = axes[1], x = 'product_code', y = 'measurement_2', data = train_data)"
   ]
  },
  {
   "cell_type": "markdown",
   "id": "1c734657-f9de-4335-87c2-57b8a04a3fb8",
   "metadata": {},
   "source": [
    "## Imputing Missing Values With KNN"
   ]
  },
  {
   "cell_type": "markdown",
   "id": "96b2985b-3845-4013-bd11-9a39a9c6e701",
   "metadata": {},
   "source": [
    "<dl>\n",
    "    <dt> Summary </dt>\n",
    "    <dd>Product code A typically has a lower value for measurement 1. Product Codes B and C typically have a higher value in measurement 2</dd>\n",
    "</dl>"
   ]
  },
  {
   "cell_type": "code",
   "execution_count": 8,
   "id": "138daae5-0c74-447c-b93c-fbab89a15ac3",
   "metadata": {},
   "outputs": [],
   "source": [
    "## Inputs and Target ##\n",
    "X = train_data.drop(columns = ['failure', 'attribute_0', 'attribute_1', 'id'])\n",
    "Y = train_data['failure']\n",
    "\n",
    "## Split Data ##\n",
    "X_train, X_test, Y_train, Y_test = train_test_split(X, Y, test_size = .2, stratify = Y)\n",
    "\n",
    "## Define Imputer ##\n",
    "imputer = KNNImputer(n_neighbors = 5, weights = 'distance').fit(X_train.drop(columns = 'product_code'))\n",
    "\n",
    "## Impute Values ##\n",
    "X_train_imp = pd.DataFrame(imputer.fit_transform(X_train.drop(columns = 'product_code')), columns = X_train.drop(columns = 'product_code').columns)\n",
    "X_test_imp = pd.DataFrame(imputer.fit_transform(X_test.drop(columns = 'product_code')), columns = X_test.drop(columns = 'product_code').columns)"
   ]
  },
  {
   "cell_type": "markdown",
   "id": "11d0a991-d915-468c-9266-dedc0970b160",
   "metadata": {},
   "source": [
    "## First Model"
   ]
  },
  {
   "cell_type": "code",
   "execution_count": 9,
   "id": "523b70c0-1f54-49d3-b7ea-75f1e3f89141",
   "metadata": {},
   "outputs": [
    {
     "name": "stdout",
     "output_type": "stream",
     "text": [
      "The ROC Score for the Random Forest Model is: 0.5761764158445998\n"
     ]
    }
   ],
   "source": [
    "## Model ##\n",
    "rf_md = RandomForestClassifier(n_estimators = 500, max_depth = 5).fit(X_train_imp, Y_train)\n",
    "\n",
    "## Prediction ##\n",
    "rf_pred = rf_md.predict_proba(X_test_imp)[:, 1]\n",
    "\n",
    "## Label ##\n",
    "print('The ROC Score for the Random Forest Model is:', roc_auc_score(Y_test, rf_pred))"
   ]
  },
  {
   "cell_type": "markdown",
   "id": "158f9cd6-4fd9-4686-87ff-e2646b0c8f42",
   "metadata": {},
   "source": [
    "## Second Model using product code"
   ]
  },
  {
   "cell_type": "code",
   "execution_count": 10,
   "id": "aae84f1e-7118-4170-b5f1-d231fa82d397",
   "metadata": {},
   "outputs": [
    {
     "data": {
      "text/plain": [
       "C    4568\n",
       "E    4317\n",
       "B    4195\n",
       "A    4103\n",
       "D    4073\n",
       "Name: product_code, dtype: int64"
      ]
     },
     "execution_count": 10,
     "metadata": {},
     "output_type": "execute_result"
    }
   ],
   "source": [
    "X_train['product_code'].value_counts()"
   ]
  },
  {
   "cell_type": "code",
   "execution_count": 11,
   "id": "28d18c03-58a8-44a5-93cd-54a90f95f8ba",
   "metadata": {},
   "outputs": [],
   "source": [
    "A_train = X_train[X_train['product_code'] == 'A'].drop(columns = 'product_code')\n",
    "B_train = X_train[X_train['product_code'] == 'B'].drop(columns = 'product_code')\n",
    "C_train = X_train[X_train['product_code'] == 'C'].drop(columns = 'product_code')\n",
    "D_train = X_train[X_train['product_code'] == 'D'].drop(columns = 'product_code')\n",
    "E_train = X_train[X_train['product_code'] == 'E'].drop(columns = 'product_code')\n",
    "\n",
    "A_test = X_test[X_test['product_code'] == 'A'].drop(columns = 'product_code')\n",
    "B_test = X_test[X_test['product_code'] == 'B'].drop(columns = 'product_code')\n",
    "C_test = X_test[X_test['product_code'] == 'C'].drop(columns = 'product_code')\n",
    "D_test = X_test[X_test['product_code'] == 'D'].drop(columns = 'product_code')\n",
    "E_test = X_test[X_test['product_code'] == 'E'].drop(columns = 'product_code')"
   ]
  },
  {
   "cell_type": "markdown",
   "id": "7317ef46-e0d8-440c-b235-e9ec66fcbef8",
   "metadata": {},
   "source": [
    "Do I need to split up the testing data as well? How do I fit the imputer to the As?"
   ]
  },
  {
   "cell_type": "code",
   "execution_count": 16,
   "id": "20abc4a0-9e10-414a-96a6-c33fbd511c11",
   "metadata": {},
   "outputs": [
    {
     "name": "stdout",
     "output_type": "stream",
     "text": [
      "The ROC Score for the Random Forest Model is: 0.48059548384913453\n"
     ]
    }
   ],
   "source": [
    "## Inputs and Target ##\n",
    "X = train_data.drop(columns = ['failure', 'attribute_0', 'attribute_1', 'product_code', 'id'])\n",
    "Y = train_data['failure']\n",
    "\n",
    "## Split Data ##\n",
    "X_train, X_test, Y_train, Y_test = train_test_split(X, Y, test_size = .2, stratify = Y)\n",
    "\n",
    "## A ##\n",
    "## Define Imputer ##\n",
    "A_imputer = KNNImputer(n_neighbors = 5, weights = 'distance').fit(A_train)\n",
    "\n",
    "## Impute Values ##\n",
    "A_train_imp = pd.DataFrame(imputer.fit_transform(A_train), columns = A_test.columns)\n",
    "A_test_imp = pd.DataFrame(imputer.fit_transform(A_test), columns = A_test.columns)\n",
    "\n",
    "## B ##\n",
    "## Define Imputer ##\n",
    "B_imputer = KNNImputer(n_neighbors = 5, weights = 'distance').fit(B_train)\n",
    "\n",
    "## Impute Values ##\n",
    "B_train_imp = pd.DataFrame(imputer.fit_transform(B_train), columns = B_test.columns)\n",
    "B_test_imp = pd.DataFrame(imputer.fit_transform(B_test), columns = B_test.columns)\n",
    "\n",
    "## C ##\n",
    "C_imputer = KNNImputer(n_neighbors = 5, weights = 'distance').fit(C_train)\n",
    "\n",
    "## Impute Values ##\n",
    "C_train_imp = pd.DataFrame(imputer.fit_transform(C_train), columns = C_test.columns)\n",
    "C_test_imp = pd.DataFrame(imputer.fit_transform(C_test), columns = C_test.columns)\n",
    "\n",
    "## D ##\n",
    "D_imputer = KNNImputer(n_neighbors = 5, weights = 'distance').fit(D_train)\n",
    "\n",
    "## Impute Values ##\n",
    "D_train_imp = pd.DataFrame(imputer.fit_transform(D_train), columns = D_test.columns)\n",
    "D_test_imp = pd.DataFrame(imputer.fit_transform(D_test), columns = D_test.columns)\n",
    "\n",
    "## E ##\n",
    "E_imputer = KNNImputer(n_neighbors = 5, weights = 'distance').fit(E_train)\n",
    "\n",
    "## Impute Values ##\n",
    "E_train_imp = pd.DataFrame(imputer.fit_transform(E_train), columns = E_test.columns)\n",
    "E_test_imp = pd.DataFrame(imputer.fit_transform(E_test), columns = E_test.columns)\n",
    "\n",
    "## Reasemble Data Frames ##\n",
    "X_train_imp = pd.concat([A_train_imp, B_train_imp, C_train_imp, D_train_imp, E_train_imp])\n",
    "X_test_imp = pd.concat([A_test_imp, B_test_imp, C_test_imp, D_test_imp, E_test_imp])\n",
    "\n",
    "\n",
    "## Model ##\n",
    "rf_md = RandomForestClassifier(n_estimators = 500, max_depth = 5).fit(X_train_imp, Y_train)\n",
    "\n",
    "## Prediction ##\n",
    "rf_pred = rf_md.predict_proba(X_test_imp)[:, 1]\n",
    "\n",
    "## Label ##\n",
    "print('The ROC Score for the Random Forest Model is:', roc_auc_score(Y_test, rf_pred))"
   ]
  },
  {
   "cell_type": "markdown",
   "id": "5fb1d7d9-db0b-43b3-9f1c-c779992f8478",
   "metadata": {},
   "source": [
    "Based on my results, Imputing the data based on product code is now bennificial. The first random forest model preformed better and is the method I would use to predict failure"
   ]
  }
 ],
 "metadata": {
  "kernelspec": {
   "display_name": "conda_python3",
   "language": "python",
   "name": "conda_python3"
  },
  "language_info": {
   "codemirror_mode": {
    "name": "ipython",
    "version": 3
   },
   "file_extension": ".py",
   "mimetype": "text/x-python",
   "name": "python",
   "nbconvert_exporter": "python",
   "pygments_lexer": "ipython3",
   "version": "3.10.6"
  }
 },
 "nbformat": 4,
 "nbformat_minor": 5
}
