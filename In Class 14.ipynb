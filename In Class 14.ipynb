{
 "cells": [
  {
   "cell_type": "code",
   "execution_count": 2,
   "id": "a6087145-a511-40e7-b2d3-5883aadfbb7d",
   "metadata": {
    "tags": []
   },
   "outputs": [],
   "source": [
    "import boto3\n",
    "import pandas as pd\n",
    "import numpy as np\n",
    "\n",
    "import matplotlib.pyplot as plt\n",
    "\n",
    "from scipy.stats import boxcox\n",
    "from sklearn.tree import DecisionTreeClassifier, plot_tree\n",
    "from sklearn.metrics import classification_report\n",
    "from sklearn.ensemble import RandomForestClassifier, AdaBoostClassifier\n",
    "from sklearn.linear_model import LogisticRegression\n",
    "from sklearn.preprocessing import MinMaxScaler\n",
    "from sklearn.model_selection import train_test_split, GridSearchCV\n",
    "from sklearn.feature_selection import RFE, RFECV\n",
    "\n",
    "from precision_recall_cutoff import precision_recall_cutoff"
   ]
  },
  {
   "cell_type": "code",
   "execution_count": 3,
   "id": "b6851d9d-afdc-46c3-99f3-4fc1621b8022",
   "metadata": {
    "tags": []
   },
   "outputs": [
    {
     "data": {
      "text/html": [
       "<div>\n",
       "<style scoped>\n",
       "    .dataframe tbody tr th:only-of-type {\n",
       "        vertical-align: middle;\n",
       "    }\n",
       "\n",
       "    .dataframe tbody tr th {\n",
       "        vertical-align: top;\n",
       "    }\n",
       "\n",
       "    .dataframe thead th {\n",
       "        text-align: right;\n",
       "    }\n",
       "</style>\n",
       "<table border=\"1\" class=\"dataframe\">\n",
       "  <thead>\n",
       "    <tr style=\"text-align: right;\">\n",
       "      <th></th>\n",
       "      <th>satisfaction_level</th>\n",
       "      <th>last_evaluation</th>\n",
       "      <th>number_project</th>\n",
       "      <th>average_montly_hours</th>\n",
       "      <th>time_spend_company</th>\n",
       "      <th>Work_accident</th>\n",
       "      <th>left</th>\n",
       "      <th>promotion_last_5years</th>\n",
       "      <th>sales</th>\n",
       "      <th>salary</th>\n",
       "    </tr>\n",
       "  </thead>\n",
       "  <tbody>\n",
       "    <tr>\n",
       "      <th>0</th>\n",
       "      <td>0.38</td>\n",
       "      <td>0.53</td>\n",
       "      <td>2</td>\n",
       "      <td>157</td>\n",
       "      <td>3</td>\n",
       "      <td>0</td>\n",
       "      <td>1</td>\n",
       "      <td>0</td>\n",
       "      <td>sales</td>\n",
       "      <td>low</td>\n",
       "    </tr>\n",
       "    <tr>\n",
       "      <th>1</th>\n",
       "      <td>0.80</td>\n",
       "      <td>0.86</td>\n",
       "      <td>5</td>\n",
       "      <td>262</td>\n",
       "      <td>6</td>\n",
       "      <td>0</td>\n",
       "      <td>1</td>\n",
       "      <td>0</td>\n",
       "      <td>sales</td>\n",
       "      <td>medium</td>\n",
       "    </tr>\n",
       "    <tr>\n",
       "      <th>2</th>\n",
       "      <td>0.11</td>\n",
       "      <td>0.88</td>\n",
       "      <td>7</td>\n",
       "      <td>272</td>\n",
       "      <td>4</td>\n",
       "      <td>0</td>\n",
       "      <td>1</td>\n",
       "      <td>0</td>\n",
       "      <td>sales</td>\n",
       "      <td>medium</td>\n",
       "    </tr>\n",
       "    <tr>\n",
       "      <th>3</th>\n",
       "      <td>0.72</td>\n",
       "      <td>0.87</td>\n",
       "      <td>5</td>\n",
       "      <td>223</td>\n",
       "      <td>5</td>\n",
       "      <td>0</td>\n",
       "      <td>1</td>\n",
       "      <td>0</td>\n",
       "      <td>sales</td>\n",
       "      <td>low</td>\n",
       "    </tr>\n",
       "    <tr>\n",
       "      <th>4</th>\n",
       "      <td>0.37</td>\n",
       "      <td>0.52</td>\n",
       "      <td>2</td>\n",
       "      <td>159</td>\n",
       "      <td>3</td>\n",
       "      <td>0</td>\n",
       "      <td>1</td>\n",
       "      <td>0</td>\n",
       "      <td>sales</td>\n",
       "      <td>low</td>\n",
       "    </tr>\n",
       "  </tbody>\n",
       "</table>\n",
       "</div>"
      ],
      "text/plain": [
       "   satisfaction_level  last_evaluation  number_project  average_montly_hours  \\\n",
       "0                0.38             0.53               2                   157   \n",
       "1                0.80             0.86               5                   262   \n",
       "2                0.11             0.88               7                   272   \n",
       "3                0.72             0.87               5                   223   \n",
       "4                0.37             0.52               2                   159   \n",
       "\n",
       "   time_spend_company  Work_accident  left  promotion_last_5years  sales  \\\n",
       "0                   3              0     1                      0  sales   \n",
       "1                   6              0     1                      0  sales   \n",
       "2                   4              0     1                      0  sales   \n",
       "3                   5              0     1                      0  sales   \n",
       "4                   3              0     1                      0  sales   \n",
       "\n",
       "   salary  \n",
       "0     low  \n",
       "1  medium  \n",
       "2  medium  \n",
       "3     low  \n",
       "4     low  "
      ]
     },
     "execution_count": 3,
     "metadata": {},
     "output_type": "execute_result"
    }
   ],
   "source": [
    "## Defining the s3 bucket\n",
    "s3 = boto3.resource('s3')\n",
    "bucket_name = 'ryan-greiner-bucket'\n",
    "bucket = s3.Bucket(bucket_name)\n",
    "\n",
    "## Defining the file to be read from s3 bucket\n",
    "file_key = 'predictive_analytics/turnover.csv'\n",
    "bucket_object = bucket.Object(file_key)\n",
    "file_object = bucket_object.get()\n",
    "file_content_stream = file_object.get('Body')\n",
    "\n",
    "## Reading CSV file\n",
    "turnover = pd.read_csv(file_content_stream)\n",
    "turnover.head()"
   ]
  },
  {
   "cell_type": "markdown",
   "id": "cafffb5b-5605-4b0b-861d-688bda99316c",
   "metadata": {},
   "source": [
    "# Feature Engineering"
   ]
  },
  {
   "cell_type": "code",
   "execution_count": 4,
   "id": "5eabb254-3a9e-4928-b62d-ae1c9b55260b",
   "metadata": {
    "tags": []
   },
   "outputs": [
    {
     "name": "stderr",
     "output_type": "stream",
     "text": [
      "/home/ec2-user/anaconda3/envs/python3/lib/python3.10/site-packages/sklearn/preprocessing/_data.py:484: RuntimeWarning: divide by zero encountered in true_divide\n",
      "  self.scale_ = (feature_range[1] - feature_range[0]) / _handle_zeros_in_scale(\n"
     ]
    }
   ],
   "source": [
    "## Create Dummies ##\n",
    "turnover = pd.concat([turnover.drop(columns = ['sales', 'salary'], axis = 1), pd.get_dummies(turnover[['sales', 'salary']])], axis = 1)\n",
    "\n",
    "## Feature Engineering ##\n",
    "turnover['interaction_1'] = np.where((turnover['satisfaction_level'] >= .115) &\n",
    "                                     (turnover['satisfaction_level'] <= .465) &\n",
    "                                     (turnover['number_project'] > 2.5), 1, 0)\n",
    "\n",
    "turnover['interaction_2'] = np.where((turnover['satisfaction_level'] >= .465) &\n",
    "                                     (turnover['number_project'] <= 2.5) &\n",
    "                                     (turnover['last_evaluation'] <= .575), 1, 0)\n",
    "\n",
    "turnover['interaction_3'] = np.where((turnover['satisfaction_level'] >= .465) &\n",
    "                                     (turnover['time_spend_company'] <= 4.5) &\n",
    "                                     (turnover['number_project'] <= 290.5), 1, 0)\n",
    "\n",
    "\n",
    "## Inputs and target ##\n",
    "scaler = MinMaxScaler()\n",
    "X = turnover.drop(columns = 'left', axis = 1)\n",
    "X = pd.DataFrame(scaler.fit_transform(X), columns = X.columns)\n",
    "Y = turnover['left']\n",
    "\n",
    "## split data ##\n",
    "X_train, X_test, Y_train, Y_test = train_test_split(X, Y, test_size = .2, stratify = Y)"
   ]
  },
  {
   "cell_type": "markdown",
   "id": "2192f25f-752a-42de-bc29-456fd8383068",
   "metadata": {},
   "source": [
    "# Random Forest"
   ]
  },
  {
   "cell_type": "markdown",
   "id": "12d0f7cc-0350-495d-82d9-b6559bdbe222",
   "metadata": {},
   "source": [
    "### RFECV"
   ]
  },
  {
   "cell_type": "code",
   "execution_count": 7,
   "id": "cfd9e232-fb82-4765-883a-c1ed09cc1058",
   "metadata": {
    "tags": []
   },
   "outputs": [
    {
     "name": "stdout",
     "output_type": "stream",
     "text": [
      "Index(['satisfaction_level', 'last_evaluation', 'number_project',\n",
      "       'average_montly_hours', 'time_spend_company', 'Work_accident',\n",
      "       'interaction_1', 'interaction_2', 'interaction_3'],\n",
      "      dtype='object')\n"
     ]
    }
   ],
   "source": [
    "selection = RFECV(estimator = RandomForestClassifier(n_estimators = 500, max_depth = 3), step = 1, \n",
    "                  min_features_to_select = 2, cv = 3).fit(X_train, Y_train)\n",
    "\n",
    "## feature names ##\n",
    "print(X_train.columns[selection.support_])"
   ]
  },
  {
   "cell_type": "markdown",
   "id": "041402ac-3a4e-4e48-9f71-f6faee0db6d9",
   "metadata": {},
   "source": [
    "### Model 1"
   ]
  },
  {
   "cell_type": "code",
   "execution_count": 8,
   "id": "df5bdb68-a293-431d-a43e-d23827a13116",
   "metadata": {
    "tags": []
   },
   "outputs": [
    {
     "name": "stdout",
     "output_type": "stream",
     "text": [
      "              precision    recall  f1-score   support\n",
      "\n",
      "           0       0.97      0.97      0.97      2286\n",
      "           1       0.90      0.89      0.90       714\n",
      "\n",
      "    accuracy                           0.95      3000\n",
      "   macro avg       0.94      0.93      0.93      3000\n",
      "weighted avg       0.95      0.95      0.95      3000\n",
      "\n"
     ]
    }
   ],
   "source": [
    "## New Inputs ##\n",
    "X_train_2 = X_train[['satisfaction_level', 'last_evaluation', 'number_project',\n",
    "       'average_montly_hours', 'time_spend_company', 'Work_accident',\n",
    "       'interaction_1', 'interaction_2', 'interaction_3']]\n",
    "\n",
    "X_test_2 = X_test[['satisfaction_level', 'last_evaluation', 'number_project',\n",
    "       'average_montly_hours', 'time_spend_company', 'Work_accident',\n",
    "       'interaction_1', 'interaction_2', 'interaction_3']]\n",
    "\n",
    "md = RandomForestClassifier(n_estimators = 500, max_depth = 3).fit(X_train_2, Y_train)\n",
    "pred = md.predict_proba(X_test_2)[:,1]\n",
    "label = precision_recall_cutoff(Y_test, pred)\n",
    "print(classification_report(Y_test, label))"
   ]
  },
  {
   "cell_type": "markdown",
   "id": "1102da51-79bb-475c-b877-9654ddc58143",
   "metadata": {},
   "source": [
    "### GridSearchCV"
   ]
  },
  {
   "cell_type": "code",
   "execution_count": 11,
   "id": "6bca523b-6495-4d90-b52f-fa1c086f1187",
   "metadata": {
    "tags": []
   },
   "outputs": [
    {
     "data": {
      "text/plain": [
       "{'max_depth': 7,\n",
       " 'min_samples_leaf': 5,\n",
       " 'min_samples_split': 10,\n",
       " 'n_estimators': 300}"
      ]
     },
     "execution_count": 11,
     "metadata": {},
     "output_type": "execute_result"
    }
   ],
   "source": [
    "## Grid ##\n",
    "rf_grid = {'n_estimators': [100, 300, 500],\n",
    "           'min_samples_split': [10, 15],\n",
    "           'min_samples_leaf': [5, 7],\n",
    "           'max_depth': [3, 5, 7]}\n",
    "\n",
    "## Search ##\n",
    "rf_search = GridSearchCV(estimator = RandomForestClassifier(), param_grid = rf_grid, cv = 5, scoring = 'f1').fit(X_train_2, Y_train)\n",
    "rf_search.best_params_"
   ]
  },
  {
   "cell_type": "markdown",
   "id": "a04975c4-0a06-431e-bbb9-05873fbfbad1",
   "metadata": {},
   "source": [
    "### Model 2 "
   ]
  },
  {
   "cell_type": "code",
   "execution_count": 12,
   "id": "66e0e594-e0f4-4fcf-bb8a-a6aa6cdfcebc",
   "metadata": {
    "tags": []
   },
   "outputs": [
    {
     "name": "stdout",
     "output_type": "stream",
     "text": [
      "              precision    recall  f1-score   support\n",
      "\n",
      "           0       0.97      0.99      0.98      2286\n",
      "           1       0.96      0.91      0.93       714\n",
      "\n",
      "    accuracy                           0.97      3000\n",
      "   macro avg       0.96      0.95      0.96      3000\n",
      "weighted avg       0.97      0.97      0.97      3000\n",
      "\n"
     ]
    }
   ],
   "source": [
    "md = RandomForestClassifier(n_estimators = 300, max_depth = 7, min_samples_leaf = 5, min_samples_split = 10).fit(X_train_2, Y_train)\n",
    "pred = md.predict_proba(X_test_2)[:, 1]\n",
    "label = precision_recall_cutoff(Y_test, pred)\n",
    "print(classification_report(Y_test, label))"
   ]
  },
  {
   "cell_type": "markdown",
   "id": "9d5e9d9c-6e26-489a-8171-d80a231bcf78",
   "metadata": {},
   "source": [
    "Based on my results, I would use Model 2 to predict left"
   ]
  }
 ],
 "metadata": {
  "kernelspec": {
   "display_name": "conda_python3",
   "language": "python",
   "name": "conda_python3"
  },
  "language_info": {
   "codemirror_mode": {
    "name": "ipython",
    "version": 3
   },
   "file_extension": ".py",
   "mimetype": "text/x-python",
   "name": "python",
   "nbconvert_exporter": "python",
   "pygments_lexer": "ipython3",
   "version": "3.10.8"
  }
 },
 "nbformat": 4,
 "nbformat_minor": 5
}
