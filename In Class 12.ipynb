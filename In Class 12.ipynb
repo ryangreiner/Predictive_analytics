{
 "cells": [
  {
   "cell_type": "code",
   "execution_count": 9,
   "id": "f7bbd969-3490-45f8-8a0b-da1b2ca8fb9a",
   "metadata": {
    "tags": []
   },
   "outputs": [
    {
     "data": {
      "text/html": [
       "<div>\n",
       "<style scoped>\n",
       "    .dataframe tbody tr th:only-of-type {\n",
       "        vertical-align: middle;\n",
       "    }\n",
       "\n",
       "    .dataframe tbody tr th {\n",
       "        vertical-align: top;\n",
       "    }\n",
       "\n",
       "    .dataframe thead th {\n",
       "        text-align: right;\n",
       "    }\n",
       "</style>\n",
       "<table border=\"1\" class=\"dataframe\">\n",
       "  <thead>\n",
       "    <tr style=\"text-align: right;\">\n",
       "      <th></th>\n",
       "      <th>satisfaction_level</th>\n",
       "      <th>last_evaluation</th>\n",
       "      <th>number_project</th>\n",
       "      <th>average_montly_hours</th>\n",
       "      <th>time_spend_company</th>\n",
       "      <th>Work_accident</th>\n",
       "      <th>left</th>\n",
       "      <th>promotion_last_5years</th>\n",
       "      <th>sales</th>\n",
       "      <th>salary</th>\n",
       "    </tr>\n",
       "  </thead>\n",
       "  <tbody>\n",
       "    <tr>\n",
       "      <th>0</th>\n",
       "      <td>0.38</td>\n",
       "      <td>0.53</td>\n",
       "      <td>2</td>\n",
       "      <td>157</td>\n",
       "      <td>3</td>\n",
       "      <td>0</td>\n",
       "      <td>1</td>\n",
       "      <td>0</td>\n",
       "      <td>sales</td>\n",
       "      <td>low</td>\n",
       "    </tr>\n",
       "    <tr>\n",
       "      <th>1</th>\n",
       "      <td>0.80</td>\n",
       "      <td>0.86</td>\n",
       "      <td>5</td>\n",
       "      <td>262</td>\n",
       "      <td>6</td>\n",
       "      <td>0</td>\n",
       "      <td>1</td>\n",
       "      <td>0</td>\n",
       "      <td>sales</td>\n",
       "      <td>medium</td>\n",
       "    </tr>\n",
       "    <tr>\n",
       "      <th>2</th>\n",
       "      <td>0.11</td>\n",
       "      <td>0.88</td>\n",
       "      <td>7</td>\n",
       "      <td>272</td>\n",
       "      <td>4</td>\n",
       "      <td>0</td>\n",
       "      <td>1</td>\n",
       "      <td>0</td>\n",
       "      <td>sales</td>\n",
       "      <td>medium</td>\n",
       "    </tr>\n",
       "    <tr>\n",
       "      <th>3</th>\n",
       "      <td>0.72</td>\n",
       "      <td>0.87</td>\n",
       "      <td>5</td>\n",
       "      <td>223</td>\n",
       "      <td>5</td>\n",
       "      <td>0</td>\n",
       "      <td>1</td>\n",
       "      <td>0</td>\n",
       "      <td>sales</td>\n",
       "      <td>low</td>\n",
       "    </tr>\n",
       "    <tr>\n",
       "      <th>4</th>\n",
       "      <td>0.37</td>\n",
       "      <td>0.52</td>\n",
       "      <td>2</td>\n",
       "      <td>159</td>\n",
       "      <td>3</td>\n",
       "      <td>0</td>\n",
       "      <td>1</td>\n",
       "      <td>0</td>\n",
       "      <td>sales</td>\n",
       "      <td>low</td>\n",
       "    </tr>\n",
       "  </tbody>\n",
       "</table>\n",
       "</div>"
      ],
      "text/plain": [
       "   satisfaction_level  last_evaluation  number_project  average_montly_hours  \\\n",
       "0                0.38             0.53               2                   157   \n",
       "1                0.80             0.86               5                   262   \n",
       "2                0.11             0.88               7                   272   \n",
       "3                0.72             0.87               5                   223   \n",
       "4                0.37             0.52               2                   159   \n",
       "\n",
       "   time_spend_company  Work_accident  left  promotion_last_5years  sales  \\\n",
       "0                   3              0     1                      0  sales   \n",
       "1                   6              0     1                      0  sales   \n",
       "2                   4              0     1                      0  sales   \n",
       "3                   5              0     1                      0  sales   \n",
       "4                   3              0     1                      0  sales   \n",
       "\n",
       "   salary  \n",
       "0     low  \n",
       "1  medium  \n",
       "2  medium  \n",
       "3     low  \n",
       "4     low  "
      ]
     },
     "execution_count": 9,
     "metadata": {},
     "output_type": "execute_result"
    }
   ],
   "source": [
    "import boto3\n",
    "import pandas as pd\n",
    "import numpy as np\n",
    "\n",
    "import matplotlib.pyplot as plt\n",
    "\n",
    "from scipy.stats import boxcox\n",
    "from sklearn.tree import DecisionTreeClassifier, plot_tree\n",
    "from sklearn.metrics import classification_report\n",
    "from sklearn.ensemble import RandomForestClassifier, AdaBoostClassifier\n",
    "from sklearn.preprocessing import MinMaxScaler\n",
    "from sklearn.model_selection import train_test_split\n",
    "from sklearn.feature_selection import RFE, RFECV\n",
    "\n",
    "from precision_recall_cutoff import precision_recall_cutoff\n",
    "\n",
    "## Defining the s3 bucket\n",
    "s3 = boto3.resource('s3')\n",
    "bucket_name = 'ryan-greiner-bucket'\n",
    "bucket = s3.Bucket(bucket_name)\n",
    "\n",
    "## Defining the file to be read from s3 bucket\n",
    "file_key = 'predictive_analytics/turnover.csv'\n",
    "bucket_object = bucket.Object(file_key)\n",
    "file_object = bucket_object.get()\n",
    "file_content_stream = file_object.get('Body')\n",
    "\n",
    "## Reading CSV file\n",
    "turnover = pd.read_csv(file_content_stream)\n",
    "turnover.head()"
   ]
  },
  {
   "cell_type": "code",
   "execution_count": 10,
   "id": "145b867b-fb7b-495b-a1f7-10b6a1dd512f",
   "metadata": {
    "tags": []
   },
   "outputs": [],
   "source": [
    "## Create Dummies ##\n",
    "turnover = pd.concat([turnover.drop(columns = ['sales', 'salary'], axis = 1), pd.get_dummies(turnover[['sales', 'salary']])], axis = 1)\n",
    "\n",
    "## Feature Engineering ##\n",
    "turnover['interaction_1'] = np.where((turnover['satisfaction_level'] >= .115) &\n",
    "                                     (turnover['satisfaction_level'] <= .465) &\n",
    "                                     (turnover['number_project'] > 2.5), 1, 0)\n",
    "\n",
    "turnover['interaction_2'] = np.where((turnover['satisfaction_level'] >= .465) &\n",
    "                                     (turnover['number_project'] <= 2.5) &\n",
    "                                     (turnover['last_evaluation'] <= .575), 1, 0)\n",
    "\n",
    "turnover['interaction_3'] = np.where((turnover['satisfaction_level'] >= .465) &\n",
    "                                     (turnover['time_spend_company'] <= 4.5) &\n",
    "                                     (turnover['number_project'] <= 290.5), 1, 0)\n",
    "\n",
    "\n",
    "## Inputs and target ##\n",
    "X = turnover.drop(columns = 'left', axis = 1)\n",
    "Y = turnover['left']\n",
    "\n",
    "## split data ##\n",
    "X_train, X_test, Y_train, Y_test = train_test_split(X, Y, test_size = .2, stratify = Y)"
   ]
  },
  {
   "cell_type": "code",
   "execution_count": 11,
   "id": "32d6e308-ba2d-474b-8ea1-01c746e7c86f",
   "metadata": {
    "tags": []
   },
   "outputs": [
    {
     "name": "stdout",
     "output_type": "stream",
     "text": [
      "Index(['satisfaction_level', 'number_project', 'time_spend_company',\n",
      "       'interaction_1', 'interaction_3'],\n",
      "      dtype='object')\n"
     ]
    }
   ],
   "source": [
    "rfe = RFE(estimator = RandomForestClassifier(n_estimators = 500, max_depth = 3), n_features_to_select = 5).fit(X_train, Y_train)\n",
    "\n",
    "## feature names ##\n",
    "print(X_train.columns[rfe.support_])"
   ]
  },
  {
   "cell_type": "code",
   "execution_count": 15,
   "id": "1e83dd9e-05ed-46c0-9c32-26550f5e4eff",
   "metadata": {
    "tags": []
   },
   "outputs": [
    {
     "name": "stdout",
     "output_type": "stream",
     "text": [
      "              precision    recall  f1-score   support\n",
      "\n",
      "           0       0.96      0.98      0.97      2286\n",
      "           1       0.92      0.88      0.90       714\n",
      "\n",
      "    accuracy                           0.95      3000\n",
      "   macro avg       0.94      0.93      0.94      3000\n",
      "weighted avg       0.95      0.95      0.95      3000\n",
      "\n"
     ]
    }
   ],
   "source": [
    "X_train_1 = X_train[['satisfaction_level', 'time_spend_company', 'interaction_1',\n",
    "                     'interaction_2', 'interaction_3']]\n",
    "\n",
    "X_test_1 = X_test[['satisfaction_level', 'time_spend_company', 'interaction_1',\n",
    "                   'interaction_2', 'interaction_3']]\n",
    "\n",
    "md_1 = RandomForestClassifier(n_estimators = 500, max_depth = 3).fit(X_train_1, Y_train)\n",
    "pred_1 = md_1.predict_proba(X_test_1)[:, 1]\n",
    "label_1 = precision_recall_cutoff(Y_test, pred_1)\n",
    "print(classification_report(Y_test, label_1))"
   ]
  },
  {
   "cell_type": "markdown",
   "id": "f1833ecc-cc87-445a-8409-9835c2aae0d0",
   "metadata": {},
   "source": [
    "# RFECV"
   ]
  },
  {
   "cell_type": "code",
   "execution_count": 16,
   "id": "a8041226-c9cf-403c-8e21-fbdc76c27735",
   "metadata": {
    "tags": []
   },
   "outputs": [
    {
     "name": "stdout",
     "output_type": "stream",
     "text": [
      "Index(['satisfaction_level', 'last_evaluation', 'number_project',\n",
      "       'average_montly_hours', 'time_spend_company', 'Work_accident',\n",
      "       'interaction_1', 'interaction_2', 'interaction_3'],\n",
      "      dtype='object')\n"
     ]
    }
   ],
   "source": [
    "selection = RFECV(RandomForestClassifier(n_estimators = 500, max_depth = 3), \n",
    "                  step = 1, min_features_to_select = 2, cv = 3).fit(X_train, Y_train)\n",
    "\n",
    "## feature names ##\n",
    "print(X_train.columns[selection.support_])"
   ]
  },
  {
   "cell_type": "code",
   "execution_count": 18,
   "id": "f7f13730-a4b3-49e7-9de8-5dace7e34c68",
   "metadata": {
    "tags": []
   },
   "outputs": [
    {
     "name": "stdout",
     "output_type": "stream",
     "text": [
      "              precision    recall  f1-score   support\n",
      "\n",
      "           0       0.98      0.97      0.97      2286\n",
      "           1       0.91      0.93      0.92       714\n",
      "\n",
      "    accuracy                           0.96      3000\n",
      "   macro avg       0.94      0.95      0.95      3000\n",
      "weighted avg       0.96      0.96      0.96      3000\n",
      "\n"
     ]
    }
   ],
   "source": [
    "## inputs ##\n",
    "X_train_2 = X_train[['satisfaction_level', 'last_evaluation', 'number_project',\n",
    "       'average_montly_hours', 'time_spend_company', 'Work_accident',\n",
    "       'interaction_1', 'interaction_2', 'interaction_3']]\n",
    "\n",
    "X_test_2 = X_test[['satisfaction_level', 'last_evaluation', 'number_project',\n",
    "       'average_montly_hours', 'time_spend_company', 'Work_accident',\n",
    "       'interaction_1', 'interaction_2', 'interaction_3']]\n",
    "\n",
    "md_2 = RandomForestClassifier(n_estimators = 500, max_depth = 3).fit(X_train_2, Y_train)\n",
    "pred_2 = md_2.predict_proba(X_test_2)[:, 1]\n",
    "label_2 = precision_recall_cutoff(Y_test, pred_2)\n",
    "print(classification_report(Y_test, label_2))"
   ]
  },
  {
   "cell_type": "markdown",
   "id": "77583e01-ca62-4459-936c-48a04b471da8",
   "metadata": {},
   "source": [
    "The second model preformed better. "
   ]
  }
 ],
 "metadata": {
  "kernelspec": {
   "display_name": "conda_python3",
   "language": "python",
   "name": "conda_python3"
  },
  "language_info": {
   "codemirror_mode": {
    "name": "ipython",
    "version": 3
   },
   "file_extension": ".py",
   "mimetype": "text/x-python",
   "name": "python",
   "nbconvert_exporter": "python",
   "pygments_lexer": "ipython3",
   "version": "3.10.8"
  }
 },
 "nbformat": 4,
 "nbformat_minor": 5
}
