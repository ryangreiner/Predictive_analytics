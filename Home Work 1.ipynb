{
 "cells": [
  {
   "cell_type": "code",
   "execution_count": 1,
   "id": "f7e26658-40ee-42e2-a9f5-419db8c7e5e4",
   "metadata": {},
   "outputs": [
    {
     "data": {
      "text/html": [
       "<div>\n",
       "<style scoped>\n",
       "    .dataframe tbody tr th:only-of-type {\n",
       "        vertical-align: middle;\n",
       "    }\n",
       "\n",
       "    .dataframe tbody tr th {\n",
       "        vertical-align: top;\n",
       "    }\n",
       "\n",
       "    .dataframe thead th {\n",
       "        text-align: right;\n",
       "    }\n",
       "</style>\n",
       "<table border=\"1\" class=\"dataframe\">\n",
       "  <thead>\n",
       "    <tr style=\"text-align: right;\">\n",
       "      <th></th>\n",
       "      <th>trustLevel</th>\n",
       "      <th>totalScanTimeInSeconds</th>\n",
       "      <th>grandTotal</th>\n",
       "      <th>lineItemVoids</th>\n",
       "      <th>scansWithoutRegistration</th>\n",
       "      <th>quantityModifications</th>\n",
       "      <th>scannedLineItemsPerSecond</th>\n",
       "      <th>valuePerSecond</th>\n",
       "      <th>lineItemVoidsPerPosition</th>\n",
       "      <th>fraud</th>\n",
       "    </tr>\n",
       "  </thead>\n",
       "  <tbody>\n",
       "    <tr>\n",
       "      <th>0</th>\n",
       "      <td>5</td>\n",
       "      <td>1054</td>\n",
       "      <td>54.70</td>\n",
       "      <td>7</td>\n",
       "      <td>0</td>\n",
       "      <td>3</td>\n",
       "      <td>0.027514</td>\n",
       "      <td>0.051898</td>\n",
       "      <td>0.241379</td>\n",
       "      <td>0</td>\n",
       "    </tr>\n",
       "    <tr>\n",
       "      <th>1</th>\n",
       "      <td>3</td>\n",
       "      <td>108</td>\n",
       "      <td>27.36</td>\n",
       "      <td>5</td>\n",
       "      <td>2</td>\n",
       "      <td>4</td>\n",
       "      <td>0.129630</td>\n",
       "      <td>0.253333</td>\n",
       "      <td>0.357143</td>\n",
       "      <td>0</td>\n",
       "    </tr>\n",
       "    <tr>\n",
       "      <th>2</th>\n",
       "      <td>3</td>\n",
       "      <td>1516</td>\n",
       "      <td>62.16</td>\n",
       "      <td>3</td>\n",
       "      <td>10</td>\n",
       "      <td>5</td>\n",
       "      <td>0.008575</td>\n",
       "      <td>0.041003</td>\n",
       "      <td>0.230769</td>\n",
       "      <td>0</td>\n",
       "    </tr>\n",
       "    <tr>\n",
       "      <th>3</th>\n",
       "      <td>6</td>\n",
       "      <td>1791</td>\n",
       "      <td>92.31</td>\n",
       "      <td>8</td>\n",
       "      <td>4</td>\n",
       "      <td>4</td>\n",
       "      <td>0.016192</td>\n",
       "      <td>0.051541</td>\n",
       "      <td>0.275862</td>\n",
       "      <td>0</td>\n",
       "    </tr>\n",
       "    <tr>\n",
       "      <th>4</th>\n",
       "      <td>5</td>\n",
       "      <td>430</td>\n",
       "      <td>81.53</td>\n",
       "      <td>3</td>\n",
       "      <td>7</td>\n",
       "      <td>2</td>\n",
       "      <td>0.062791</td>\n",
       "      <td>0.189605</td>\n",
       "      <td>0.111111</td>\n",
       "      <td>0</td>\n",
       "    </tr>\n",
       "  </tbody>\n",
       "</table>\n",
       "</div>"
      ],
      "text/plain": [
       "   trustLevel  totalScanTimeInSeconds  grandTotal  lineItemVoids  \\\n",
       "0           5                    1054       54.70              7   \n",
       "1           3                     108       27.36              5   \n",
       "2           3                    1516       62.16              3   \n",
       "3           6                    1791       92.31              8   \n",
       "4           5                     430       81.53              3   \n",
       "\n",
       "   scansWithoutRegistration  quantityModifications  scannedLineItemsPerSecond  \\\n",
       "0                         0                      3                   0.027514   \n",
       "1                         2                      4                   0.129630   \n",
       "2                        10                      5                   0.008575   \n",
       "3                         4                      4                   0.016192   \n",
       "4                         7                      2                   0.062791   \n",
       "\n",
       "   valuePerSecond  lineItemVoidsPerPosition  fraud  \n",
       "0        0.051898                  0.241379      0  \n",
       "1        0.253333                  0.357143      0  \n",
       "2        0.041003                  0.230769      0  \n",
       "3        0.051541                  0.275862      0  \n",
       "4        0.189605                  0.111111      0  "
      ]
     },
     "execution_count": 1,
     "metadata": {},
     "output_type": "execute_result"
    }
   ],
   "source": [
    "import boto3\n",
    "import pandas as pd\n",
    "import numpy as np\n",
    "import seaborn as sns\n",
    "\n",
    "import matplotlib.pyplot as plt; plt.style.use('ggplot')\n",
    "\n",
    "from sklearn.model_selection import train_test_split\n",
    "from sklearn.ensemble import RandomForestClassifier, AdaBoostClassifier\n",
    "from sklearn.tree import DecisionTreeClassifier\n",
    "from sklearn.metrics import precision_recall_curve, classification_report\n",
    "from IPython.display import clear_output\n",
    "\n",
    "## Defining the s3 bucket\n",
    "s3 = boto3.resource('s3')\n",
    "bucket_name = 'ryan-greiner-bucket'\n",
    "bucket = s3.Bucket(bucket_name)\n",
    "\n",
    "## Defining the file to be read from s3 bucket\n",
    "file_key = 'predictive_analytics/Data-Mining-Cup/train.csv'\n",
    "bucket_object = bucket.Object(file_key)\n",
    "file_object = bucket_object.get()\n",
    "file_content_stream = file_object.get('Body')\n",
    "\n",
    "## Reading CSV file\n",
    "train = pd.read_csv(file_content_stream, delimiter = '|')\n",
    "\n",
    "## Defining the file to be read from s3 bucket\n",
    "file_key_2 = 'predictive_analytics/Data-Mining-Cup/test.csv'\n",
    "bucket_object_2 = bucket.Object(file_key_2)\n",
    "file_object_2 = bucket_object_2.get()\n",
    "file_content_stream_2 = file_object_2.get('Body')\n",
    "\n",
    "## Reading CSV file\n",
    "test = pd.read_csv(file_content_stream_2, delimiter = '|')\n",
    "train.head()"
   ]
  },
  {
   "cell_type": "code",
   "execution_count": 2,
   "id": "bd5a3577-c2a6-423f-9626-aee50d9e1328",
   "metadata": {},
   "outputs": [
    {
     "data": {
      "text/html": [
       "<div>\n",
       "<style scoped>\n",
       "    .dataframe tbody tr th:only-of-type {\n",
       "        vertical-align: middle;\n",
       "    }\n",
       "\n",
       "    .dataframe tbody tr th {\n",
       "        vertical-align: top;\n",
       "    }\n",
       "\n",
       "    .dataframe thead th {\n",
       "        text-align: right;\n",
       "    }\n",
       "</style>\n",
       "<table border=\"1\" class=\"dataframe\">\n",
       "  <thead>\n",
       "    <tr style=\"text-align: right;\">\n",
       "      <th></th>\n",
       "      <th>trustLevel</th>\n",
       "      <th>totalScanTimeInSeconds</th>\n",
       "      <th>grandTotal</th>\n",
       "      <th>lineItemVoids</th>\n",
       "      <th>scansWithoutRegistration</th>\n",
       "      <th>quantityModifications</th>\n",
       "      <th>scannedLineItemsPerSecond</th>\n",
       "      <th>valuePerSecond</th>\n",
       "      <th>lineItemVoidsPerPosition</th>\n",
       "    </tr>\n",
       "  </thead>\n",
       "  <tbody>\n",
       "    <tr>\n",
       "      <th>0</th>\n",
       "      <td>4</td>\n",
       "      <td>467</td>\n",
       "      <td>88.48</td>\n",
       "      <td>4</td>\n",
       "      <td>8</td>\n",
       "      <td>4</td>\n",
       "      <td>0.014989</td>\n",
       "      <td>0.189465</td>\n",
       "      <td>0.571429</td>\n",
       "    </tr>\n",
       "    <tr>\n",
       "      <th>1</th>\n",
       "      <td>3</td>\n",
       "      <td>1004</td>\n",
       "      <td>58.99</td>\n",
       "      <td>7</td>\n",
       "      <td>6</td>\n",
       "      <td>1</td>\n",
       "      <td>0.026892</td>\n",
       "      <td>0.058755</td>\n",
       "      <td>0.259259</td>\n",
       "    </tr>\n",
       "    <tr>\n",
       "      <th>2</th>\n",
       "      <td>1</td>\n",
       "      <td>162</td>\n",
       "      <td>14.00</td>\n",
       "      <td>4</td>\n",
       "      <td>5</td>\n",
       "      <td>4</td>\n",
       "      <td>0.006173</td>\n",
       "      <td>0.086420</td>\n",
       "      <td>4.000000</td>\n",
       "    </tr>\n",
       "    <tr>\n",
       "      <th>3</th>\n",
       "      <td>5</td>\n",
       "      <td>532</td>\n",
       "      <td>84.79</td>\n",
       "      <td>9</td>\n",
       "      <td>3</td>\n",
       "      <td>4</td>\n",
       "      <td>0.026316</td>\n",
       "      <td>0.159380</td>\n",
       "      <td>0.642857</td>\n",
       "    </tr>\n",
       "    <tr>\n",
       "      <th>4</th>\n",
       "      <td>5</td>\n",
       "      <td>890</td>\n",
       "      <td>42.16</td>\n",
       "      <td>4</td>\n",
       "      <td>0</td>\n",
       "      <td>0</td>\n",
       "      <td>0.021348</td>\n",
       "      <td>0.047371</td>\n",
       "      <td>0.210526</td>\n",
       "    </tr>\n",
       "  </tbody>\n",
       "</table>\n",
       "</div>"
      ],
      "text/plain": [
       "   trustLevel  totalScanTimeInSeconds  grandTotal  lineItemVoids  \\\n",
       "0           4                     467       88.48              4   \n",
       "1           3                    1004       58.99              7   \n",
       "2           1                     162       14.00              4   \n",
       "3           5                     532       84.79              9   \n",
       "4           5                     890       42.16              4   \n",
       "\n",
       "   scansWithoutRegistration  quantityModifications  scannedLineItemsPerSecond  \\\n",
       "0                         8                      4                   0.014989   \n",
       "1                         6                      1                   0.026892   \n",
       "2                         5                      4                   0.006173   \n",
       "3                         3                      4                   0.026316   \n",
       "4                         0                      0                   0.021348   \n",
       "\n",
       "   valuePerSecond  lineItemVoidsPerPosition  \n",
       "0        0.189465                  0.571429  \n",
       "1        0.058755                  0.259259  \n",
       "2        0.086420                  4.000000  \n",
       "3        0.159380                  0.642857  \n",
       "4        0.047371                  0.210526  "
      ]
     },
     "execution_count": 2,
     "metadata": {},
     "output_type": "execute_result"
    }
   ],
   "source": [
    "test.head()"
   ]
  },
  {
   "cell_type": "markdown",
   "id": "abf953b7-74d3-4e15-b999-662b041e9d26",
   "metadata": {},
   "source": [
    "# EDA"
   ]
  },
  {
   "cell_type": "code",
   "execution_count": 3,
   "id": "2953cb64-53e4-4d4c-87c9-6d20f0921622",
   "metadata": {},
   "outputs": [
    {
     "name": "stdout",
     "output_type": "stream",
     "text": [
      "training size: 1879\n",
      "testing size: 498121\n"
     ]
    }
   ],
   "source": [
    "print('training size:', train.shape[0])\n",
    "print('testing size:', test.shape[0])"
   ]
  },
  {
   "cell_type": "code",
   "execution_count": 4,
   "id": "a710272a-39c5-4f7a-80d7-a8b38ca3f0c0",
   "metadata": {},
   "outputs": [
    {
     "data": {
      "text/plain": [
       "0    0.944651\n",
       "1    0.055349\n",
       "Name: fraud, dtype: float64"
      ]
     },
     "execution_count": 4,
     "metadata": {},
     "output_type": "execute_result"
    }
   ],
   "source": [
    "train['fraud'].value_counts() / train.shape[0]"
   ]
  },
  {
   "cell_type": "markdown",
   "id": "ef45ed6f-cf50-4662-8ad2-e73f15067194",
   "metadata": {},
   "source": [
    "Approximately $94.5\\%$ of the observations are not fraud, while approximately $5.5\\%$ of observations are fraud"
   ]
  },
  {
   "cell_type": "code",
   "execution_count": 5,
   "id": "6255b7b2-7add-4da8-8543-36d7408235fe",
   "metadata": {},
   "outputs": [
    {
     "data": {
      "text/plain": [
       "<AxesSubplot: xlabel='trustLevel', ylabel='Count'>"
      ]
     },
     "execution_count": 5,
     "metadata": {},
     "output_type": "execute_result"
    },
    {
     "data": {
      "image/png": "[encoded data removed]",
      "text/plain": [
       "<Figure size 1500x600 with 2 Axes>"
      ]
     },
     "metadata": {},
     "output_type": "display_data"
    }
   ],
   "source": [
    "fig, axes = plt.subplots(1, 2, figsize = (15, 6))\n",
    "\n",
    "sns.boxplot(ax = axes[0], x = 'fraud', y = 'lineItemVoids', data = train)\n",
    "sns.histplot(ax = axes[1], x = 'trustLevel', hue = 'fraud', fill = True, data = train)"
   ]
  },
  {
   "cell_type": "markdown",
   "id": "681f9380-1600-49b3-b72f-620cea5615bf",
   "metadata": {},
   "source": [
    "<dl>\n",
    "    <dt>Summary of Visuals</dt>\n",
    "    <dd>As shown in the boxplot above, we can expect a transaction with more line item voids to have a higher likely hood of being fraudulent.</dd>\n",
    "    <dd>We can also see from the bar chart that transactions with a lower trust level are much more likely to be fraudulent</dd>\n",
    "</dl>"
   ]
  },
  {
   "cell_type": "markdown",
   "id": "6952dce3-8ac5-4929-8346-37cdbc836630",
   "metadata": {},
   "source": [
    "# Random Forest Importances"
   ]
  },
  {
   "cell_type": "code",
   "execution_count": 6,
   "id": "1df4d18c-f990-4696-a68b-ecacc59b6e86",
   "metadata": {},
   "outputs": [
    {
     "data": {
      "text/html": [
       "<div>\n",
       "<style scoped>\n",
       "    .dataframe tbody tr th:only-of-type {\n",
       "        vertical-align: middle;\n",
       "    }\n",
       "\n",
       "    .dataframe tbody tr th {\n",
       "        vertical-align: top;\n",
       "    }\n",
       "\n",
       "    .dataframe thead th {\n",
       "        text-align: right;\n",
       "    }\n",
       "</style>\n",
       "<table border=\"1\" class=\"dataframe\">\n",
       "  <thead>\n",
       "    <tr style=\"text-align: right;\">\n",
       "      <th></th>\n",
       "      <th>Variable</th>\n",
       "      <th>Importance</th>\n",
       "    </tr>\n",
       "  </thead>\n",
       "  <tbody>\n",
       "    <tr>\n",
       "      <th>0</th>\n",
       "      <td>trustLevel</td>\n",
       "      <td>0.438307</td>\n",
       "    </tr>\n",
       "    <tr>\n",
       "      <th>6</th>\n",
       "      <td>scannedLineItemsPerSecond</td>\n",
       "      <td>0.150548</td>\n",
       "    </tr>\n",
       "    <tr>\n",
       "      <th>8</th>\n",
       "      <td>lineItemVoidsPerPosition</td>\n",
       "      <td>0.115536</td>\n",
       "    </tr>\n",
       "    <tr>\n",
       "      <th>1</th>\n",
       "      <td>totalScanTimeInSeconds</td>\n",
       "      <td>0.110615</td>\n",
       "    </tr>\n",
       "    <tr>\n",
       "      <th>7</th>\n",
       "      <td>valuePerSecond</td>\n",
       "      <td>0.064811</td>\n",
       "    </tr>\n",
       "    <tr>\n",
       "      <th>3</th>\n",
       "      <td>lineItemVoids</td>\n",
       "      <td>0.047170</td>\n",
       "    </tr>\n",
       "    <tr>\n",
       "      <th>2</th>\n",
       "      <td>grandTotal</td>\n",
       "      <td>0.046796</td>\n",
       "    </tr>\n",
       "    <tr>\n",
       "      <th>4</th>\n",
       "      <td>scansWithoutRegistration</td>\n",
       "      <td>0.022475</td>\n",
       "    </tr>\n",
       "    <tr>\n",
       "      <th>5</th>\n",
       "      <td>quantityModifications</td>\n",
       "      <td>0.003741</td>\n",
       "    </tr>\n",
       "  </tbody>\n",
       "</table>\n",
       "</div>"
      ],
      "text/plain": [
       "                    Variable  Importance\n",
       "0                 trustLevel    0.438307\n",
       "6  scannedLineItemsPerSecond    0.150548\n",
       "8   lineItemVoidsPerPosition    0.115536\n",
       "1     totalScanTimeInSeconds    0.110615\n",
       "7             valuePerSecond    0.064811\n",
       "3              lineItemVoids    0.047170\n",
       "2                 grandTotal    0.046796\n",
       "4   scansWithoutRegistration    0.022475\n",
       "5      quantityModifications    0.003741"
      ]
     },
     "execution_count": 6,
     "metadata": {},
     "output_type": "execute_result"
    }
   ],
   "source": [
    "## Define Variables ##\n",
    "X = train.drop(columns = 'fraud', axis = 1)\n",
    "Y = train['fraud']\n",
    "\n",
    "rf_importance = list()\n",
    "\n",
    "for i in range(5):\n",
    "    print(i)\n",
    "    X_train, X_test, Y_train, Y_test = train_test_split(X, Y, test_size = 0.2, stratify = Y)\n",
    "    \n",
    "    ## Random Forest Importances ##\n",
    "    rf_md = RandomForestClassifier(n_estimators = 500, max_depth = 3).fit(X_train, Y_train)\n",
    "    rf_importance.append(rf_md.feature_importances_)\n",
    "    clear_output()\n",
    "    \n",
    "\n",
    "imp_data = pd.DataFrame(rf_importance)\n",
    "\n",
    "importances = pd.DataFrame({\n",
    "    'Variable': X.columns.values,\n",
    "    'Importance': np.nan\n",
    "})\n",
    "\n",
    "for i in range(len(X.columns.values)):\n",
    "    importances.loc[i, 'Importance'] = np.mean(imp_data[i])\n",
    "\n",
    "importances.sort_values(['Importance'], ascending = False, inplace = True)\n",
    "importances"
   ]
  },
  {
   "cell_type": "markdown",
   "id": "91c6bbf8-a88c-4b8e-9662-5f538f00dbc5",
   "metadata": {},
   "source": [
    "Based on the importances found above, I will use the following variables in my modeling process: \n",
    "- trustLevel\n",
    "- scannedLineItemsPerSecond\n",
    "- totalScanTimeInSeconds\n",
    "- lineItemVoidsPerPosition\n",
    "- valuePerSecond"
   ]
  },
  {
   "cell_type": "markdown",
   "id": "407cd549-1853-4452-8e08-3577465cfa7f",
   "metadata": {},
   "source": [
    "# Modeling"
   ]
  },
  {
   "cell_type": "markdown",
   "id": "9e6a8949-bede-4198-99ab-d47167a0a2d1",
   "metadata": {},
   "source": [
    "### Random Forest"
   ]
  },
  {
   "cell_type": "code",
   "execution_count": 7,
   "id": "555f3783-f0b0-49e9-b57d-a78fe319a4e2",
   "metadata": {},
   "outputs": [
    {
     "name": "stdout",
     "output_type": "stream",
     "text": [
      "353 353 352\n"
     ]
    }
   ],
   "source": [
    "X = train[['trustLevel', 'scannedLineItemsPerSecond', 'totalScanTimeInSeconds', 'lineItemVoidsPerPosition', 'valuePerSecond']]\n",
    "\n",
    "X_train, X_test, Y_train, Y_test = train_test_split(X, Y, test_size = 0.2, stratify = Y)\n",
    "\n",
    "## Random Forest Model ##\n",
    "rf_md = RandomForestClassifier(n_estimators = 500, max_depth = 3).fit(X_train, Y_train)\n",
    "\n",
    "## Predictions ##\n",
    "rf_pred = rf_md.predict_proba(X_test)[:, 1]\n",
    "\n",
    "## Calculate Metric ##\n",
    "precision, recall, threshold = precision_recall_curve(Y_test, rf_pred)\n",
    "\n",
    "## Ensure lists are the same length ##\n",
    "print(len(precision), len(recall), len(threshold))"
   ]
  },
  {
   "cell_type": "code",
   "execution_count": 8,
   "id": "a6a1e2cb-e4e9-472a-bb59-5bf42409c552",
   "metadata": {},
   "outputs": [
    {
     "name": "stdout",
     "output_type": "stream",
     "text": [
      "352 352 352\n"
     ]
    }
   ],
   "source": [
    "## Lists are different lengths, drop the last value from precision and recall ##\n",
    "precision = np.delete(precision, len(precision)-1)\n",
    "recall = np.delete(recall, len(recall)-1)\n",
    "print(len(precision), len(recall), len(threshold))"
   ]
  },
  {
   "cell_type": "code",
   "execution_count": 9,
   "id": "ba129e19-af3a-41c2-bc79-8a7010e934d9",
   "metadata": {},
   "outputs": [
    {
     "data": {
      "text/html": [
       "<div>\n",
       "<style scoped>\n",
       "    .dataframe tbody tr th:only-of-type {\n",
       "        vertical-align: middle;\n",
       "    }\n",
       "\n",
       "    .dataframe tbody tr th {\n",
       "        vertical-align: top;\n",
       "    }\n",
       "\n",
       "    .dataframe thead th {\n",
       "        text-align: right;\n",
       "    }\n",
       "</style>\n",
       "<table border=\"1\" class=\"dataframe\">\n",
       "  <thead>\n",
       "    <tr style=\"text-align: right;\">\n",
       "      <th></th>\n",
       "      <th>precision</th>\n",
       "      <th>recall</th>\n",
       "      <th>threshold</th>\n",
       "      <th>Euclidean_distance</th>\n",
       "    </tr>\n",
       "  </thead>\n",
       "  <tbody>\n",
       "    <tr>\n",
       "      <th>322</th>\n",
       "      <td>0.466667</td>\n",
       "      <td>0.666667</td>\n",
       "      <td>0.213505</td>\n",
       "      <td>0.628932</td>\n",
       "    </tr>\n",
       "    <tr>\n",
       "      <th>321</th>\n",
       "      <td>0.451613</td>\n",
       "      <td>0.666667</td>\n",
       "      <td>0.204459</td>\n",
       "      <td>0.641747</td>\n",
       "    </tr>\n",
       "    <tr>\n",
       "      <th>325</th>\n",
       "      <td>0.481481</td>\n",
       "      <td>0.619048</td>\n",
       "      <td>0.269423</td>\n",
       "      <td>0.643418</td>\n",
       "    </tr>\n",
       "    <tr>\n",
       "      <th>320</th>\n",
       "      <td>0.437500</td>\n",
       "      <td>0.666667</td>\n",
       "      <td>0.199395</td>\n",
       "      <td>0.653848</td>\n",
       "    </tr>\n",
       "    <tr>\n",
       "      <th>324</th>\n",
       "      <td>0.464286</td>\n",
       "      <td>0.619048</td>\n",
       "      <td>0.246541</td>\n",
       "      <td>0.657354</td>\n",
       "    </tr>\n",
       "    <tr>\n",
       "      <th>...</th>\n",
       "      <td>...</td>\n",
       "      <td>...</td>\n",
       "      <td>...</td>\n",
       "      <td>...</td>\n",
       "    </tr>\n",
       "    <tr>\n",
       "      <th>3</th>\n",
       "      <td>0.056452</td>\n",
       "      <td>1.000000</td>\n",
       "      <td>0.000509</td>\n",
       "      <td>0.943548</td>\n",
       "    </tr>\n",
       "    <tr>\n",
       "      <th>2</th>\n",
       "      <td>0.056300</td>\n",
       "      <td>1.000000</td>\n",
       "      <td>0.000377</td>\n",
       "      <td>0.943700</td>\n",
       "    </tr>\n",
       "    <tr>\n",
       "      <th>1</th>\n",
       "      <td>0.056000</td>\n",
       "      <td>1.000000</td>\n",
       "      <td>0.000217</td>\n",
       "      <td>0.944000</td>\n",
       "    </tr>\n",
       "    <tr>\n",
       "      <th>0</th>\n",
       "      <td>0.055851</td>\n",
       "      <td>1.000000</td>\n",
       "      <td>0.000148</td>\n",
       "      <td>0.944149</td>\n",
       "    </tr>\n",
       "    <tr>\n",
       "      <th>351</th>\n",
       "      <td>1.000000</td>\n",
       "      <td>0.047619</td>\n",
       "      <td>0.485529</td>\n",
       "      <td>0.952381</td>\n",
       "    </tr>\n",
       "  </tbody>\n",
       "</table>\n",
       "<p>352 rows × 4 columns</p>\n",
       "</div>"
      ],
      "text/plain": [
       "     precision    recall  threshold  Euclidean_distance\n",
       "322   0.466667  0.666667   0.213505            0.628932\n",
       "321   0.451613  0.666667   0.204459            0.641747\n",
       "325   0.481481  0.619048   0.269423            0.643418\n",
       "320   0.437500  0.666667   0.199395            0.653848\n",
       "324   0.464286  0.619048   0.246541            0.657354\n",
       "..         ...       ...        ...                 ...\n",
       "3     0.056452  1.000000   0.000509            0.943548\n",
       "2     0.056300  1.000000   0.000377            0.943700\n",
       "1     0.056000  1.000000   0.000217            0.944000\n",
       "0     0.055851  1.000000   0.000148            0.944149\n",
       "351   1.000000  0.047619   0.485529            0.952381\n",
       "\n",
       "[352 rows x 4 columns]"
      ]
     },
     "execution_count": 9,
     "metadata": {},
     "output_type": "execute_result"
    }
   ],
   "source": [
    "# Create Data Frame for results ##\n",
    "cutoffs = pd.DataFrame({'precision': precision, 'recall': recall, 'threshold': threshold})\n",
    "\n",
    "## Euclidean Distance ##\n",
    "cutoffs['Euclidean_distance'] = np.sqrt((1 - cutoffs['precision'])**2 + (1 - cutoffs['recall'])**2)\n",
    "cutoffs = cutoffs.sort_values(by = 'Euclidean_distance')\n",
    "cutoffs"
   ]
  },
  {
   "cell_type": "code",
   "execution_count": 10,
   "id": "34ddba09-3e5c-417f-a8e7-bed19fa94144",
   "metadata": {},
   "outputs": [
    {
     "name": "stdout",
     "output_type": "stream",
     "text": [
      "              precision    recall  f1-score   support\n",
      "\n",
      "           0       0.98      0.95      0.97       355\n",
      "           1       0.45      0.62      0.52        21\n",
      "\n",
      "    accuracy                           0.94       376\n",
      "   macro avg       0.71      0.79      0.74       376\n",
      "weighted avg       0.95      0.94      0.94       376\n",
      "\n"
     ]
    }
   ],
   "source": [
    "rf_labels = np.where(rf_pred < .213505, 0, 1)\n",
    "print(classification_report(Y_test, rf_labels))"
   ]
  },
  {
   "cell_type": "markdown",
   "id": "afd4d704-fea2-403b-8a5f-3bf93495a440",
   "metadata": {},
   "source": [
    "<dl>\n",
    "  <dt>Random Forest Results</dt>\n",
    "  <dd>Based on the results above, the best cutoff value for my random forest model is $.213505$</dd>\n",
    "    <dd> This value still did not give a very high precision and recall for the $1$s, so some tuning would be necessary. </dd>\n",
    "</dl>"
   ]
  },
  {
   "cell_type": "markdown",
   "id": "f7f214cb-22e4-4ad9-9e86-af404e261357",
   "metadata": {},
   "source": [
    "### Ada Boost"
   ]
  },
  {
   "cell_type": "code",
   "execution_count": 11,
   "id": "bdc2a40a-29ee-4cc7-b9d2-1e6f22c001d6",
   "metadata": {},
   "outputs": [
    {
     "name": "stdout",
     "output_type": "stream",
     "text": [
      "350 350 349\n"
     ]
    }
   ],
   "source": [
    "X_train, X_test, Y_train, Y_test = train_test_split(X, Y, test_size = 0.2, stratify = Y)\n",
    "\n",
    "## Ada Boost Model ##\n",
    "ada_md = AdaBoostClassifier(base_estimator = DecisionTreeClassifier(max_depth = 3), \n",
    "                                    n_estimators = 500, learning_rate = .01).fit(X_train, Y_train)\n",
    "\n",
    "## Predictions ##\n",
    "ada_pred = ada_md.predict_proba(X_test)[:, 1]\n",
    "\n",
    "## Calculate Metric ##\n",
    "precision, recall, threshold = precision_recall_curve(Y_test, ada_pred)\n",
    "print(len(precision), len(recall), len(threshold))"
   ]
  },
  {
   "cell_type": "code",
   "execution_count": 12,
   "id": "86b97000-31db-4c76-ab87-9f8a0f5c070e",
   "metadata": {},
   "outputs": [
    {
     "name": "stdout",
     "output_type": "stream",
     "text": [
      "349 349 349\n"
     ]
    }
   ],
   "source": [
    "precision = np.delete(precision, len(precision)-1)\n",
    "recall = np.delete(recall, len(recall)-1)\n",
    "print(len(precision), len(recall), len(threshold))"
   ]
  },
  {
   "cell_type": "code",
   "execution_count": 13,
   "id": "431150b0-4db5-4043-81cc-37a9f95f9c98",
   "metadata": {},
   "outputs": [
    {
     "data": {
      "text/html": [
       "<div>\n",
       "<style scoped>\n",
       "    .dataframe tbody tr th:only-of-type {\n",
       "        vertical-align: middle;\n",
       "    }\n",
       "\n",
       "    .dataframe tbody tr th {\n",
       "        vertical-align: top;\n",
       "    }\n",
       "\n",
       "    .dataframe thead th {\n",
       "        text-align: right;\n",
       "    }\n",
       "</style>\n",
       "<table border=\"1\" class=\"dataframe\">\n",
       "  <thead>\n",
       "    <tr style=\"text-align: right;\">\n",
       "      <th></th>\n",
       "      <th>precision</th>\n",
       "      <th>recall</th>\n",
       "      <th>threshold</th>\n",
       "      <th>Euclidean_distance</th>\n",
       "    </tr>\n",
       "  </thead>\n",
       "  <tbody>\n",
       "    <tr>\n",
       "      <th>328</th>\n",
       "      <td>0.809524</td>\n",
       "      <td>0.809524</td>\n",
       "      <td>0.270287</td>\n",
       "      <td>0.269374</td>\n",
       "    </tr>\n",
       "    <tr>\n",
       "      <th>327</th>\n",
       "      <td>0.772727</td>\n",
       "      <td>0.809524</td>\n",
       "      <td>0.251189</td>\n",
       "      <td>0.296537</td>\n",
       "    </tr>\n",
       "    <tr>\n",
       "      <th>329</th>\n",
       "      <td>0.800000</td>\n",
       "      <td>0.761905</td>\n",
       "      <td>0.483858</td>\n",
       "      <td>0.310949</td>\n",
       "    </tr>\n",
       "    <tr>\n",
       "      <th>326</th>\n",
       "      <td>0.739130</td>\n",
       "      <td>0.809524</td>\n",
       "      <td>0.189805</td>\n",
       "      <td>0.323008</td>\n",
       "    </tr>\n",
       "    <tr>\n",
       "      <th>325</th>\n",
       "      <td>0.708333</td>\n",
       "      <td>0.809524</td>\n",
       "      <td>0.181952</td>\n",
       "      <td>0.348354</td>\n",
       "    </tr>\n",
       "    <tr>\n",
       "      <th>...</th>\n",
       "      <td>...</td>\n",
       "      <td>...</td>\n",
       "      <td>...</td>\n",
       "      <td>...</td>\n",
       "    </tr>\n",
       "    <tr>\n",
       "      <th>3</th>\n",
       "      <td>0.056300</td>\n",
       "      <td>1.000000</td>\n",
       "      <td>0.000013</td>\n",
       "      <td>0.943700</td>\n",
       "    </tr>\n",
       "    <tr>\n",
       "      <th>2</th>\n",
       "      <td>0.056150</td>\n",
       "      <td>1.000000</td>\n",
       "      <td>0.000012</td>\n",
       "      <td>0.943850</td>\n",
       "    </tr>\n",
       "    <tr>\n",
       "      <th>1</th>\n",
       "      <td>0.056000</td>\n",
       "      <td>1.000000</td>\n",
       "      <td>0.000002</td>\n",
       "      <td>0.944000</td>\n",
       "    </tr>\n",
       "    <tr>\n",
       "      <th>0</th>\n",
       "      <td>0.055851</td>\n",
       "      <td>1.000000</td>\n",
       "      <td>0.000002</td>\n",
       "      <td>0.944149</td>\n",
       "    </tr>\n",
       "    <tr>\n",
       "      <th>348</th>\n",
       "      <td>1.000000</td>\n",
       "      <td>0.047619</td>\n",
       "      <td>0.885114</td>\n",
       "      <td>0.952381</td>\n",
       "    </tr>\n",
       "  </tbody>\n",
       "</table>\n",
       "<p>349 rows × 4 columns</p>\n",
       "</div>"
      ],
      "text/plain": [
       "     precision    recall  threshold  Euclidean_distance\n",
       "328   0.809524  0.809524   0.270287            0.269374\n",
       "327   0.772727  0.809524   0.251189            0.296537\n",
       "329   0.800000  0.761905   0.483858            0.310949\n",
       "326   0.739130  0.809524   0.189805            0.323008\n",
       "325   0.708333  0.809524   0.181952            0.348354\n",
       "..         ...       ...        ...                 ...\n",
       "3     0.056300  1.000000   0.000013            0.943700\n",
       "2     0.056150  1.000000   0.000012            0.943850\n",
       "1     0.056000  1.000000   0.000002            0.944000\n",
       "0     0.055851  1.000000   0.000002            0.944149\n",
       "348   1.000000  0.047619   0.885114            0.952381\n",
       "\n",
       "[349 rows x 4 columns]"
      ]
     },
     "execution_count": 13,
     "metadata": {},
     "output_type": "execute_result"
    }
   ],
   "source": [
    "# Create Data Frame for results ##\n",
    "cutoffs = pd.DataFrame({'precision': precision, 'recall': recall, 'threshold': threshold})\n",
    "\n",
    "## Euclidean Distance ##\n",
    "cutoffs['Euclidean_distance'] = np.sqrt((1 - cutoffs['precision'])**2 + (1 - cutoffs['recall'])**2)\n",
    "cutoffs = cutoffs.sort_values(by = 'Euclidean_distance')\n",
    "cutoffs"
   ]
  },
  {
   "cell_type": "code",
   "execution_count": 15,
   "id": "3f6e2b0e-3cd7-49ef-8849-c8e8ebd0cbc9",
   "metadata": {},
   "outputs": [
    {
     "name": "stdout",
     "output_type": "stream",
     "text": [
      "              precision    recall  f1-score   support\n",
      "\n",
      "           0       0.99      0.99      0.99       355\n",
      "           1       0.81      0.81      0.81        21\n",
      "\n",
      "    accuracy                           0.98       376\n",
      "   macro avg       0.90      0.90      0.90       376\n",
      "weighted avg       0.98      0.98      0.98       376\n",
      "\n"
     ]
    }
   ],
   "source": [
    "ada_labels = np.where(ada_pred < .269374, 0, 1)\n",
    "print(classification_report(Y_test, ada_labels))"
   ]
  },
  {
   "cell_type": "markdown",
   "id": "eb7f5c80-a36c-44b2-b9c1-c1b98836e832",
   "metadata": {},
   "source": [
    "<dl>\n",
    "    <dt>Ada Boost Results</dt>\n",
    "    <dd>Based on the results above, the best cutoff value for my Ada boost model is $.274862$</dd>\n",
    "    <dd>This value gave a slightly better precision and recall for the $0$s, while it gave a much better precesion and recall for the $1$s.</dd>\n",
    "    <dd>The ada boost model is the one that should be used to predict customer fraud.<dd>\n",
    "</dl>"
   ]
  }
 ],
 "metadata": {
  "kernelspec": {
   "display_name": "conda_python3",
   "language": "python",
   "name": "conda_python3"
  },
  "language_info": {
   "codemirror_mode": {
    "name": "ipython",
    "version": 3
   },
   "file_extension": ".py",
   "mimetype": "text/x-python",
   "name": "python",
   "nbconvert_exporter": "python",
   "pygments_lexer": "ipython3",
   "version": "3.10.6"
  }
 },
 "nbformat": 4,
 "nbformat_minor": 5
}
