{
 "cells": [
  {
   "cell_type": "code",
   "execution_count": null,
   "id": "7db0ee65-f7e7-4da4-8bfa-6c3288a46417",
   "metadata": {},
   "outputs": [],
   "source": [
    "# Do all the bucket stuff and load the data frame later\n",
    "# Im just going to write the main code here and edit/run it on AWS later"
   ]
  },
  {
   "cell_type": "code",
   "execution_count": null,
   "id": "b2497d1c-e643-4bd2-99b5-76352769d69d",
   "metadata": {},
   "outputs": [],
   "source": [
    "import bota3\n",
    "import pandas as pd\n",
    "import numpy as np\n",
    "\n",
    "# mat plot\n",
    "from sklearn.model_selection import \n"
   ]
  },
  {
   "cell_type": "code",
   "execution_count": null,
   "id": "3f7c3141-4b93-456b-9a23-63213bbddb7e",
   "metadata": {},
   "outputs": [],
   "source": [
    "# frequency table of churn\n",
    "churn_data['Churn'].value_counts() / churn_data.shape[0]"
   ]
  },
  {
   "cell_type": "code",
   "execution_count": null,
   "id": "687cafa2-ff05-4530-a2d2-b28fa76cbf60",
   "metadata": {},
   "outputs": [],
   "source": [
    "# define inputs and targets\n",
    "X = churn_data[['AccountWeeks', 'ContractRenewal', 'CustServCalls', 'MonthlyCharge', 'DayMins']]\n",
    "Y = churn_data['Churn']\n",
    "\n",
    "X_train, X_test, Y_train, Y_test = train_test_split(X, Y, test_size = .2, Stratify = Y)"
   ]
  },
  {
   "cell_type": "code",
   "execution_count": null,
   "id": "5cb5397f-aa1f-4846-8df0-9e2a29362146",
   "metadata": {},
   "outputs": [],
   "source": [
    "# Check proportion of 0s and 1s\n",
    "Y_train.value_counts() / Y_train.shape[0]"
   ]
  },
  {
   "cell_type": "code",
   "execution_count": null,
   "id": "89e1b112-ae74-4da3-9e19-20586a358d62",
   "metadata": {},
   "outputs": [],
   "source": [
    "Y_test.value_counts() / Y_test.shape[0]"
   ]
  },
  {
   "cell_type": "code",
   "execution_count": null,
   "id": "9dba4db1-5932-4cce-a65e-69c2368e8967",
   "metadata": {},
   "outputs": [],
   "source": [
    "rf_md = RandomForestClassifier(n_estimators = 500, max_depth = 3).fit(X_train, Y_train)\n",
    "rf_pred = rf_md.predict_proba(X_test)[:, 1]\n",
    "\n",
    "# ROC_AUC\n",
    "fpr, tpr, threshold = roc_curve(Y_test, rf_pred)"
   ]
  },
  {
   "cell_type": "code",
   "execution_count": null,
   "id": "ff44d115-48c9-4f3d-8acb-ea3fe70281d5",
   "metadata": {},
   "outputs": [],
   "source": [
    "cutoffs = pd.DataFrame({'fpr': fpr, 'tpr': tpr, 'threshold': threshold})\n",
    "cutoffs"
   ]
  },
  {
   "cell_type": "code",
   "execution_count": null,
   "id": "a9f6750a-857a-478c-9499-6ce1fb9b7592",
   "metadata": {},
   "outputs": [],
   "source": [
    "# drop first observation\n",
    "cutoffs = cutoffs.drop(cutoffs.index[0], axis = 0)"
   ]
  },
  {
   "cell_type": "code",
   "execution_count": null,
   "id": "e1987729-2c28-40ab-aece-bd45ca23554c",
   "metadata": {},
   "outputs": [],
   "source": [
    "# find euclidean distance from"
   ]
  }
 ],
 "metadata": {
  "kernelspec": {
   "display_name": "Python 3",
   "language": "python",
   "name": "python3"
  },
  "language_info": {
   "codemirror_mode": {
    "name": "ipython",
    "version": 3
   },
   "file_extension": ".py",
   "mimetype": "text/x-python",
   "name": "python",
   "nbconvert_exporter": "python",
   "pygments_lexer": "ipython3",
   "version": "3.8.8"
  }
 },
 "nbformat": 4,
 "nbformat_minor": 5
}
